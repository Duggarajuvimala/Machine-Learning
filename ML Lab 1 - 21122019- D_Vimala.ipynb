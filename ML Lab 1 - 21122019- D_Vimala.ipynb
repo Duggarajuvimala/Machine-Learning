{
 "cells": [
  {
   "cell_type": "markdown",
   "id": "8d764d58",
   "metadata": {},
   "source": [
    "# Machine Learning Lab 1 - basic understanding ML libraries\n",
    "<hr/>\n",
    "\n",
    "Submitted by <br>\n",
    "Name: **D.Vimala** <br>\n",
    "Register Number: **21122019** <br>\n",
    "Class: **2MSCDS** <br> \n",
    "<hr/>"
   ]
  },
  {
   "cell_type": "markdown",
   "id": "ca4248b2",
   "metadata": {},
   "source": [
    "## Lab Overview  \n",
    "### Objectives\n",
    "- Execute some basic python code\n",
    "- Import the following libraries into Python *(Mandatory)*:\n",
    "    - pandas\n",
    "    - numpy\n",
    "    - sklearn\n",
    "    - seaborn\n",
    "    - theano\n",
    "    - scipy\n",
    "- Import the following libraries into Python *(Optional)*:\n",
    "    - pytorch \n",
    "    - keras\n",
    "    - tensorflow\n",
    "- Execute at least one line of code involving above-libraries *(Need not be your own code)*\n",
    "- Find out the various options in Jupyter Notebook Markdown Documentation\n",
    "\n",
    "\n"
   ]
  },
  {
   "cell_type": "markdown",
   "id": "65b59f1c",
   "metadata": {},
   "source": [
    "### Problem Definition\n",
    "Go through all the ML libraries and getting basic ungerstanding"
   ]
  },
  {
   "cell_type": "markdown",
   "id": "0fdf24e5",
   "metadata": {},
   "source": [
    "### Approach\n",
    "- going through all the libraries and getting to know how they work and can be used."
   ]
  },
  {
   "cell_type": "markdown",
   "id": "2a6022f6",
   "metadata": {},
   "source": [
    "### Sections\n",
    "1. Lab Overview\n",
    "1. Executing Basic Python Code\n",
    "1. Libraries\n",
    "    1. Installation Instructions\n",
    "    1. Numpy\n",
    "    1. Pandas\n",
    "    1. SKLearn\n",
    "    1. seaborn\n",
    "    1. theano\n",
    "    1.scipy\n",
    "    1.pytorch\n",
    "    1.keras\n",
    "    1.tensorflow\n",
    "1. Conclusion"
   ]
  },
  {
   "cell_type": "markdown",
   "id": "db447f69",
   "metadata": {},
   "source": [
    "### References\n",
    "- https://seaborn.pydata.org/generated/seaborn.FacetGrid.html\n",
    "- https://www.geeksforgeeks.org/python-seaborn-facetgrid-method/\n",
    "- https://www.geeksforgeeks.org/data-analysis-with-scipy/\n",
    "- https://scikit-learn.org/stable/\n",
    "- https://www.geeksforgeeks.org/getting-started-with-pytorch/"
   ]
  },
  {
   "cell_type": "markdown",
   "id": "1fc87936",
   "metadata": {},
   "source": [
    "## Executing Basic Python Code"
   ]
  },
  {
   "cell_type": "markdown",
   "id": "2668499f",
   "metadata": {},
   "source": [
    "#Concatenation\n",
    "first_name = input(\"enter the first name= \")\n",
    "last_name = input(\"enter the last name= \")\n",
    "full_name = first_name + ' ' + last_name\n",
    "print(full_name)"
   ]
  },
  {
   "cell_type": "markdown",
   "id": "58797dcf",
   "metadata": {},
   "source": [
    "#### A Program to add two numbers"
   ]
  },
  {
   "cell_type": "code",
   "execution_count": 13,
   "id": "ebf67a19",
   "metadata": {},
   "outputs": [
    {
     "name": "stdout",
     "output_type": "stream",
     "text": [
      "enter the number= 25\n",
      "enter the number= 69\n",
      "94\n"
     ]
    }
   ],
   "source": [
    "def add_numbers(x, y):\n",
    "    return x + y\n",
    "#Add two numbers and return the sum.\n",
    " \n",
    "sum = add_numbers(int(input('enter the number= ')),int(input('enter the number= ')))\n",
    "print(sum)"
   ]
  },
  {
   "cell_type": "markdown",
   "id": "57ae3cb2",
   "metadata": {},
   "source": [
    "#### Some simple user-defined functions"
   ]
  },
  {
   "cell_type": "code",
   "execution_count": 14,
   "id": "3db7afc6",
   "metadata": {},
   "outputs": [],
   "source": [
    "def printLine(symbol, size):\n",
    "    print(symbol*size)"
   ]
  },
  {
   "cell_type": "code",
   "execution_count": 15,
   "id": "7afd9f31",
   "metadata": {},
   "outputs": [],
   "source": [
    "def sayHello(full_name):\n",
    "    print(\"Hello {}!\".format(full_name))\n",
    "    \n",
    "def sayThankYou(full_name, title):\n",
    "    print(\"Thank you {} for using this program - '{}'\".format(full_name, title))"
   ]
  },
  {
   "cell_type": "code",
   "execution_count": 16,
   "id": "28b63f19",
   "metadata": {},
   "outputs": [
    {
     "name": "stdout",
     "output_type": "stream",
     "text": [
      "**************************************************\n",
      "Hello Duggaraju Vimala!\n",
      "--------------------\n",
      "Thank you Duggaraju Vimala for using this program - 'Introduction to ML Libraries'\n",
      "**************************************************\n"
     ]
    }
   ],
   "source": [
    "programTitle = \"Introduction to ML Libraries\"\n",
    "\n",
    "printLine(\"*\", 50)\n",
    "sayHello(full_name)\n",
    "printLine(\"-\", 20)\n",
    "sayThankYou(full_name, programTitle)\n",
    "printLine(\"*\", 50)\n"
   ]
  },
  {
   "cell_type": "markdown",
   "id": "114457c4",
   "metadata": {},
   "source": [
    "## Libraries"
   ]
  },
  {
   "cell_type": "markdown",
   "id": "65909742",
   "metadata": {},
   "source": [
    "### sklearn"
   ]
  },
  {
   "cell_type": "markdown",
   "id": "6b3750a8",
   "metadata": {},
   "source": [
    "- simple and efficient tools for predictive data analysis\n",
    "- accessible to everybody and reusable in various contexts\n",
    "- built on numpy ,scipy,and matplotlib"
   ]
  },
  {
   "cell_type": "code",
   "execution_count": 44,
   "id": "d714f102",
   "metadata": {},
   "outputs": [],
   "source": [
    "import numpy as np\n",
    "import pandas as pd\n",
    "import seaborn as sns\n",
    "import sklearn\n",
    "import theano\n",
    "import theano.tensor as T\n",
    "import matplotlib.pyplot as plt\n",
    "%matplotlib inline"
   ]
  },
  {
   "cell_type": "code",
   "execution_count": 45,
   "id": "439e01ae",
   "metadata": {},
   "outputs": [],
   "source": [
    "from sklearn import datasets\n",
    "data=sklearn.datasets.load_iris()"
   ]
  },
  {
   "cell_type": "code",
   "execution_count": 46,
   "id": "396de702",
   "metadata": {},
   "outputs": [
    {
     "data": {
      "text/plain": [
       "'.. _iris_dataset:\\n\\nIris plants dataset\\n--------------------\\n\\n**Data Set Characteristics:**\\n\\n    :Number of Instances: 150 (50 in each of three classes)\\n    :Number of Attributes: 4 numeric, predictive attributes and the class\\n    :Attribute Information:\\n        - sepal length in cm\\n        - sepal width in cm\\n        - petal length in cm\\n        - petal width in cm\\n        - class:\\n                - Iris-Setosa\\n                - Iris-Versicolour\\n                - Iris-Virginica\\n                \\n    :Summary Statistics:\\n\\n    ============== ==== ==== ======= ===== ====================\\n                    Min  Max   Mean    SD   Class Correlation\\n    ============== ==== ==== ======= ===== ====================\\n    sepal length:   4.3  7.9   5.84   0.83    0.7826\\n    sepal width:    2.0  4.4   3.05   0.43   -0.4194\\n    petal length:   1.0  6.9   3.76   1.76    0.9490  (high!)\\n    petal width:    0.1  2.5   1.20   0.76    0.9565  (high!)\\n    ============== ==== ==== ======= ===== ====================\\n\\n    :Missing Attribute Values: None\\n    :Class Distribution: 33.3% for each of 3 classes.\\n    :Creator: R.A. Fisher\\n    :Donor: Michael Marshall (MARSHALL%PLU@io.arc.nasa.gov)\\n    :Date: July, 1988\\n\\nThe famous Iris database, first used by Sir R.A. Fisher. The dataset is taken\\nfrom Fisher\\'s paper. Note that it\\'s the same as in R, but not as in the UCI\\nMachine Learning Repository, which has two wrong data points.\\n\\nThis is perhaps the best known database to be found in the\\npattern recognition literature.  Fisher\\'s paper is a classic in the field and\\nis referenced frequently to this day.  (See Duda & Hart, for example.)  The\\ndata set contains 3 classes of 50 instances each, where each class refers to a\\ntype of iris plant.  One class is linearly separable from the other 2; the\\nlatter are NOT linearly separable from each other.\\n\\n.. topic:: References\\n\\n   - Fisher, R.A. \"The use of multiple measurements in taxonomic problems\"\\n     Annual Eugenics, 7, Part II, 179-188 (1936); also in \"Contributions to\\n     Mathematical Statistics\" (John Wiley, NY, 1950).\\n   - Duda, R.O., & Hart, P.E. (1973) Pattern Classification and Scene Analysis.\\n     (Q327.D83) John Wiley & Sons.  ISBN 0-471-22361-1.  See page 218.\\n   - Dasarathy, B.V. (1980) \"Nosing Around the Neighborhood: A New System\\n     Structure and Classification Rule for Recognition in Partially Exposed\\n     Environments\".  IEEE Transactions on Pattern Analysis and Machine\\n     Intelligence, Vol. PAMI-2, No. 1, 67-71.\\n   - Gates, G.W. (1972) \"The Reduced Nearest Neighbor Rule\".  IEEE Transactions\\n     on Information Theory, May 1972, 431-433.\\n   - See also: 1988 MLC Proceedings, 54-64.  Cheeseman et al\"s AUTOCLASS II\\n     conceptual clustering system finds 3 classes in the data.\\n   - Many, many more ...'"
      ]
     },
     "execution_count": 46,
     "metadata": {},
     "output_type": "execute_result"
    }
   ],
   "source": [
    "data.DESCR"
   ]
  },
  {
   "cell_type": "code",
   "execution_count": 47,
   "id": "a4fd8baf",
   "metadata": {},
   "outputs": [
    {
     "data": {
      "text/plain": [
       "array([[5.1, 3.5, 1.4, 0.2],\n",
       "       [4.9, 3. , 1.4, 0.2],\n",
       "       [4.7, 3.2, 1.3, 0.2],\n",
       "       [4.6, 3.1, 1.5, 0.2],\n",
       "       [5. , 3.6, 1.4, 0.2],\n",
       "       [5.4, 3.9, 1.7, 0.4],\n",
       "       [4.6, 3.4, 1.4, 0.3],\n",
       "       [5. , 3.4, 1.5, 0.2],\n",
       "       [4.4, 2.9, 1.4, 0.2],\n",
       "       [4.9, 3.1, 1.5, 0.1],\n",
       "       [5.4, 3.7, 1.5, 0.2],\n",
       "       [4.8, 3.4, 1.6, 0.2],\n",
       "       [4.8, 3. , 1.4, 0.1],\n",
       "       [4.3, 3. , 1.1, 0.1],\n",
       "       [5.8, 4. , 1.2, 0.2],\n",
       "       [5.7, 4.4, 1.5, 0.4],\n",
       "       [5.4, 3.9, 1.3, 0.4],\n",
       "       [5.1, 3.5, 1.4, 0.3],\n",
       "       [5.7, 3.8, 1.7, 0.3],\n",
       "       [5.1, 3.8, 1.5, 0.3],\n",
       "       [5.4, 3.4, 1.7, 0.2],\n",
       "       [5.1, 3.7, 1.5, 0.4],\n",
       "       [4.6, 3.6, 1. , 0.2],\n",
       "       [5.1, 3.3, 1.7, 0.5],\n",
       "       [4.8, 3.4, 1.9, 0.2],\n",
       "       [5. , 3. , 1.6, 0.2],\n",
       "       [5. , 3.4, 1.6, 0.4],\n",
       "       [5.2, 3.5, 1.5, 0.2],\n",
       "       [5.2, 3.4, 1.4, 0.2],\n",
       "       [4.7, 3.2, 1.6, 0.2],\n",
       "       [4.8, 3.1, 1.6, 0.2],\n",
       "       [5.4, 3.4, 1.5, 0.4],\n",
       "       [5.2, 4.1, 1.5, 0.1],\n",
       "       [5.5, 4.2, 1.4, 0.2],\n",
       "       [4.9, 3.1, 1.5, 0.2],\n",
       "       [5. , 3.2, 1.2, 0.2],\n",
       "       [5.5, 3.5, 1.3, 0.2],\n",
       "       [4.9, 3.6, 1.4, 0.1],\n",
       "       [4.4, 3. , 1.3, 0.2],\n",
       "       [5.1, 3.4, 1.5, 0.2],\n",
       "       [5. , 3.5, 1.3, 0.3],\n",
       "       [4.5, 2.3, 1.3, 0.3],\n",
       "       [4.4, 3.2, 1.3, 0.2],\n",
       "       [5. , 3.5, 1.6, 0.6],\n",
       "       [5.1, 3.8, 1.9, 0.4],\n",
       "       [4.8, 3. , 1.4, 0.3],\n",
       "       [5.1, 3.8, 1.6, 0.2],\n",
       "       [4.6, 3.2, 1.4, 0.2],\n",
       "       [5.3, 3.7, 1.5, 0.2],\n",
       "       [5. , 3.3, 1.4, 0.2],\n",
       "       [7. , 3.2, 4.7, 1.4],\n",
       "       [6.4, 3.2, 4.5, 1.5],\n",
       "       [6.9, 3.1, 4.9, 1.5],\n",
       "       [5.5, 2.3, 4. , 1.3],\n",
       "       [6.5, 2.8, 4.6, 1.5],\n",
       "       [5.7, 2.8, 4.5, 1.3],\n",
       "       [6.3, 3.3, 4.7, 1.6],\n",
       "       [4.9, 2.4, 3.3, 1. ],\n",
       "       [6.6, 2.9, 4.6, 1.3],\n",
       "       [5.2, 2.7, 3.9, 1.4],\n",
       "       [5. , 2. , 3.5, 1. ],\n",
       "       [5.9, 3. , 4.2, 1.5],\n",
       "       [6. , 2.2, 4. , 1. ],\n",
       "       [6.1, 2.9, 4.7, 1.4],\n",
       "       [5.6, 2.9, 3.6, 1.3],\n",
       "       [6.7, 3.1, 4.4, 1.4],\n",
       "       [5.6, 3. , 4.5, 1.5],\n",
       "       [5.8, 2.7, 4.1, 1. ],\n",
       "       [6.2, 2.2, 4.5, 1.5],\n",
       "       [5.6, 2.5, 3.9, 1.1],\n",
       "       [5.9, 3.2, 4.8, 1.8],\n",
       "       [6.1, 2.8, 4. , 1.3],\n",
       "       [6.3, 2.5, 4.9, 1.5],\n",
       "       [6.1, 2.8, 4.7, 1.2],\n",
       "       [6.4, 2.9, 4.3, 1.3],\n",
       "       [6.6, 3. , 4.4, 1.4],\n",
       "       [6.8, 2.8, 4.8, 1.4],\n",
       "       [6.7, 3. , 5. , 1.7],\n",
       "       [6. , 2.9, 4.5, 1.5],\n",
       "       [5.7, 2.6, 3.5, 1. ],\n",
       "       [5.5, 2.4, 3.8, 1.1],\n",
       "       [5.5, 2.4, 3.7, 1. ],\n",
       "       [5.8, 2.7, 3.9, 1.2],\n",
       "       [6. , 2.7, 5.1, 1.6],\n",
       "       [5.4, 3. , 4.5, 1.5],\n",
       "       [6. , 3.4, 4.5, 1.6],\n",
       "       [6.7, 3.1, 4.7, 1.5],\n",
       "       [6.3, 2.3, 4.4, 1.3],\n",
       "       [5.6, 3. , 4.1, 1.3],\n",
       "       [5.5, 2.5, 4. , 1.3],\n",
       "       [5.5, 2.6, 4.4, 1.2],\n",
       "       [6.1, 3. , 4.6, 1.4],\n",
       "       [5.8, 2.6, 4. , 1.2],\n",
       "       [5. , 2.3, 3.3, 1. ],\n",
       "       [5.6, 2.7, 4.2, 1.3],\n",
       "       [5.7, 3. , 4.2, 1.2],\n",
       "       [5.7, 2.9, 4.2, 1.3],\n",
       "       [6.2, 2.9, 4.3, 1.3],\n",
       "       [5.1, 2.5, 3. , 1.1],\n",
       "       [5.7, 2.8, 4.1, 1.3],\n",
       "       [6.3, 3.3, 6. , 2.5],\n",
       "       [5.8, 2.7, 5.1, 1.9],\n",
       "       [7.1, 3. , 5.9, 2.1],\n",
       "       [6.3, 2.9, 5.6, 1.8],\n",
       "       [6.5, 3. , 5.8, 2.2],\n",
       "       [7.6, 3. , 6.6, 2.1],\n",
       "       [4.9, 2.5, 4.5, 1.7],\n",
       "       [7.3, 2.9, 6.3, 1.8],\n",
       "       [6.7, 2.5, 5.8, 1.8],\n",
       "       [7.2, 3.6, 6.1, 2.5],\n",
       "       [6.5, 3.2, 5.1, 2. ],\n",
       "       [6.4, 2.7, 5.3, 1.9],\n",
       "       [6.8, 3. , 5.5, 2.1],\n",
       "       [5.7, 2.5, 5. , 2. ],\n",
       "       [5.8, 2.8, 5.1, 2.4],\n",
       "       [6.4, 3.2, 5.3, 2.3],\n",
       "       [6.5, 3. , 5.5, 1.8],\n",
       "       [7.7, 3.8, 6.7, 2.2],\n",
       "       [7.7, 2.6, 6.9, 2.3],\n",
       "       [6. , 2.2, 5. , 1.5],\n",
       "       [6.9, 3.2, 5.7, 2.3],\n",
       "       [5.6, 2.8, 4.9, 2. ],\n",
       "       [7.7, 2.8, 6.7, 2. ],\n",
       "       [6.3, 2.7, 4.9, 1.8],\n",
       "       [6.7, 3.3, 5.7, 2.1],\n",
       "       [7.2, 3.2, 6. , 1.8],\n",
       "       [6.2, 2.8, 4.8, 1.8],\n",
       "       [6.1, 3. , 4.9, 1.8],\n",
       "       [6.4, 2.8, 5.6, 2.1],\n",
       "       [7.2, 3. , 5.8, 1.6],\n",
       "       [7.4, 2.8, 6.1, 1.9],\n",
       "       [7.9, 3.8, 6.4, 2. ],\n",
       "       [6.4, 2.8, 5.6, 2.2],\n",
       "       [6.3, 2.8, 5.1, 1.5],\n",
       "       [6.1, 2.6, 5.6, 1.4],\n",
       "       [7.7, 3. , 6.1, 2.3],\n",
       "       [6.3, 3.4, 5.6, 2.4],\n",
       "       [6.4, 3.1, 5.5, 1.8],\n",
       "       [6. , 3. , 4.8, 1.8],\n",
       "       [6.9, 3.1, 5.4, 2.1],\n",
       "       [6.7, 3.1, 5.6, 2.4],\n",
       "       [6.9, 3.1, 5.1, 2.3],\n",
       "       [5.8, 2.7, 5.1, 1.9],\n",
       "       [6.8, 3.2, 5.9, 2.3],\n",
       "       [6.7, 3.3, 5.7, 2.5],\n",
       "       [6.7, 3. , 5.2, 2.3],\n",
       "       [6.3, 2.5, 5. , 1.9],\n",
       "       [6.5, 3. , 5.2, 2. ],\n",
       "       [6.2, 3.4, 5.4, 2.3],\n",
       "       [5.9, 3. , 5.1, 1.8]])"
      ]
     },
     "execution_count": 47,
     "metadata": {},
     "output_type": "execute_result"
    }
   ],
   "source": [
    "data.data"
   ]
  },
  {
   "cell_type": "code",
   "execution_count": 48,
   "id": "d96e3d57",
   "metadata": {
    "scrolled": true
   },
   "outputs": [
    {
     "data": {
      "text/plain": [
       "['sepal length (cm)',\n",
       " 'sepal width (cm)',\n",
       " 'petal length (cm)',\n",
       " 'petal width (cm)']"
      ]
     },
     "execution_count": 48,
     "metadata": {},
     "output_type": "execute_result"
    }
   ],
   "source": [
    "data.feature_names"
   ]
  },
  {
   "cell_type": "code",
   "execution_count": 49,
   "id": "65840997",
   "metadata": {},
   "outputs": [
    {
     "data": {
      "text/plain": [
       "array([0, 0, 0, 0, 0, 0, 0, 0, 0, 0, 0, 0, 0, 0, 0, 0, 0, 0, 0, 0, 0, 0,\n",
       "       0, 0, 0, 0, 0, 0, 0, 0, 0, 0, 0, 0, 0, 0, 0, 0, 0, 0, 0, 0, 0, 0,\n",
       "       0, 0, 0, 0, 0, 0, 1, 1, 1, 1, 1, 1, 1, 1, 1, 1, 1, 1, 1, 1, 1, 1,\n",
       "       1, 1, 1, 1, 1, 1, 1, 1, 1, 1, 1, 1, 1, 1, 1, 1, 1, 1, 1, 1, 1, 1,\n",
       "       1, 1, 1, 1, 1, 1, 1, 1, 1, 1, 1, 1, 2, 2, 2, 2, 2, 2, 2, 2, 2, 2,\n",
       "       2, 2, 2, 2, 2, 2, 2, 2, 2, 2, 2, 2, 2, 2, 2, 2, 2, 2, 2, 2, 2, 2,\n",
       "       2, 2, 2, 2, 2, 2, 2, 2, 2, 2, 2, 2, 2, 2, 2, 2, 2, 2])"
      ]
     },
     "execution_count": 49,
     "metadata": {},
     "output_type": "execute_result"
    }
   ],
   "source": [
    "data.target"
   ]
  },
  {
   "cell_type": "code",
   "execution_count": 50,
   "id": "ba1f412e",
   "metadata": {},
   "outputs": [],
   "source": [
    "x=data.data\n",
    "y=data.target"
   ]
  },
  {
   "cell_type": "code",
   "execution_count": 51,
   "id": "49fcb3f1",
   "metadata": {},
   "outputs": [
    {
     "name": "stdout",
     "output_type": "stream",
     "text": [
      "Feature names=  ['sepal length (cm)', 'sepal width (cm)', 'petal length (cm)', 'petal width (cm)']\n",
      "Target names=  ['setosa' 'versicolor' 'virginica']\n"
     ]
    }
   ],
   "source": [
    "feature_names = data.feature_names\n",
    "target_names = data.target_names\n",
    "print(\"Feature names= \",feature_names)\n",
    "print(\"Target names= \",target_names )"
   ]
  },
  {
   "cell_type": "code",
   "execution_count": 52,
   "id": "47569fd0",
   "metadata": {},
   "outputs": [
    {
     "name": "stdout",
     "output_type": "stream",
     "text": [
      "(150, 4)\n"
     ]
    }
   ],
   "source": [
    "print(x.shape)"
   ]
  },
  {
   "cell_type": "code",
   "execution_count": 53,
   "id": "3e0f8adb",
   "metadata": {},
   "outputs": [
    {
     "name": "stdout",
     "output_type": "stream",
     "text": [
      "(150,)\n"
     ]
    }
   ],
   "source": [
    "print(y.shape)"
   ]
  },
  {
   "cell_type": "code",
   "execution_count": 54,
   "id": "3d6d8646",
   "metadata": {},
   "outputs": [],
   "source": [
    "y_names = data.target_names"
   ]
  },
  {
   "cell_type": "code",
   "execution_count": 55,
   "id": "14c9c87d",
   "metadata": {},
   "outputs": [],
   "source": [
    "test_ids = np.random.permutation(len(x))"
   ]
  },
  {
   "cell_type": "code",
   "execution_count": 56,
   "id": "fab52c7e",
   "metadata": {},
   "outputs": [],
   "source": [
    "x_train = x[test_ids[:-10]]\n",
    "x_test = x[test_ids[-10:]]\n",
    "\n",
    "y_train = y[test_ids[:-10]]\n",
    "y_test = y[test_ids[-10:]]"
   ]
  },
  {
   "cell_type": "code",
   "execution_count": 57,
   "id": "d9629342",
   "metadata": {},
   "outputs": [
    {
     "data": {
      "text/plain": [
       "(140, 4)"
      ]
     },
     "execution_count": 57,
     "metadata": {},
     "output_type": "execute_result"
    }
   ],
   "source": [
    "x_train.shape"
   ]
  },
  {
   "cell_type": "code",
   "execution_count": 58,
   "id": "bf44720a",
   "metadata": {},
   "outputs": [
    {
     "data": {
      "text/plain": [
       "dtype('float64')"
      ]
     },
     "execution_count": 58,
     "metadata": {},
     "output_type": "execute_result"
    }
   ],
   "source": [
    "x_train.dtype"
   ]
  },
  {
   "cell_type": "code",
   "execution_count": 59,
   "id": "05ba0548",
   "metadata": {},
   "outputs": [
    {
     "data": {
      "text/plain": [
       "((10, 4), dtype('float64'))"
      ]
     },
     "execution_count": 59,
     "metadata": {},
     "output_type": "execute_result"
    }
   ],
   "source": [
    "x_test.shape,x_test.dtype"
   ]
  },
  {
   "cell_type": "code",
   "execution_count": 60,
   "id": "44920c30",
   "metadata": {},
   "outputs": [
    {
     "data": {
      "text/plain": [
       "((140,), dtype('int32'))"
      ]
     },
     "execution_count": 60,
     "metadata": {},
     "output_type": "execute_result"
    }
   ],
   "source": [
    "y_train.shape,y_train.dtype"
   ]
  },
  {
   "cell_type": "code",
   "execution_count": 61,
   "id": "bd684347",
   "metadata": {},
   "outputs": [
    {
     "data": {
      "text/plain": [
       "((10,), dtype('int32'))"
      ]
     },
     "execution_count": 61,
     "metadata": {},
     "output_type": "execute_result"
    }
   ],
   "source": [
    "y_test.shape,y_test.dtype"
   ]
  },
  {
   "cell_type": "code",
   "execution_count": 62,
   "id": "595624b7",
   "metadata": {},
   "outputs": [
    {
     "name": "stderr",
     "output_type": "stream",
     "text": [
      "C:\\Users\\vimala\\anaconda3\\lib\\site-packages\\seaborn\\distributions.py:2557: FutureWarning: `distplot` is a deprecated function and will be removed in a future version. Please adapt your code to use either `displot` (a figure-level function with similar flexibility) or `histplot` (an axes-level function for histograms).\n",
      "  warnings.warn(msg, FutureWarning)\n"
     ]
    },
    {
     "data": {
      "image/png": "[encoded data removed]",
      "text/plain": [
       "<Figure size 432x288 with 1 Axes>"
      ]
     },
     "metadata": {
      "needs_background": "light"
     },
     "output_type": "display_data"
    }
   ],
   "source": [
    "sns.distplot(y_train)\n",
    "plt.show()"
   ]
  },
  {
   "cell_type": "markdown",
   "id": "1f15657a",
   "metadata": {},
   "source": [
    "### Numpy"
   ]
  },
  {
   "cell_type": "markdown",
   "id": "8909605c",
   "metadata": {},
   "source": [
    "#### About the library\n",
    "Numpy is a general-purpose array-processing package. It provides a high-performance multidimensional array object, and tools for working with these arrays. It is the fundamental package for scientific computing with Python.\n",
    "Besides its obvious scientific uses, Numpy can also be used as an efficient multi-dimensional container of generic data."
   ]
  },
  {
   "cell_type": "markdown",
   "id": "454ea183",
   "metadata": {},
   "source": [
    "##### Arrays in Numpy"
   ]
  },
  {
   "cell_type": "markdown",
   "id": "5a35edd0",
   "metadata": {},
   "source": [
    "##### Creating a Numpy Array"
   ]
  },
  {
   "cell_type": "code",
   "execution_count": 1,
   "id": "8fef9cea",
   "metadata": {},
   "outputs": [],
   "source": [
    "import numpy as np"
   ]
  },
  {
   "cell_type": "code",
   "execution_count": 2,
   "id": "ae0be3f1",
   "metadata": {},
   "outputs": [
    {
     "name": "stdout",
     "output_type": "stream",
     "text": [
      "[1 2 3]\n"
     ]
    }
   ],
   "source": [
    "a=np.array([1,2,3]) # 1D array\n",
    "print(a)"
   ]
  },
  {
   "cell_type": "code",
   "execution_count": 3,
   "id": "44c36128",
   "metadata": {},
   "outputs": [
    {
     "name": "stdout",
     "output_type": "stream",
     "text": [
      "[[1 2 3]\n",
      " [4 5 6]]\n"
     ]
    }
   ],
   "source": [
    "b=np.array([[1,2,3],[4,5,6]]) # 2D array\n",
    "print(b)"
   ]
  },
  {
   "cell_type": "code",
   "execution_count": 5,
   "id": "55d262b2",
   "metadata": {},
   "outputs": [
    {
     "name": "stdout",
     "output_type": "stream",
     "text": [
      "[1 3 2]\n"
     ]
    }
   ],
   "source": [
    "c=np.array((1,3,2)) # array from array\n",
    "print(c)"
   ]
  },
  {
   "cell_type": "markdown",
   "id": "2c14090e",
   "metadata": {},
   "source": [
    "#### Accessing the array index"
   ]
  },
  {
   "cell_type": "code",
   "execution_count": 6,
   "id": "45fb7e00",
   "metadata": {},
   "outputs": [
    {
     "name": "stdout",
     "output_type": "stream",
     "text": [
      "[[-1.   2.   6.   8. ]\n",
      " [ 4.  -0.5  6.   8. ]\n",
      " [ 5.8  0.   7.   4. ]\n",
      " [ 3.   4.   7.   9. ]]\n",
      "[[-1.   8. ]\n",
      " [ 4.   8. ]\n",
      " [ 5.8  4. ]]\n"
     ]
    }
   ],
   "source": [
    "a=np.array([[-1,2,6,8],[4,-0.5,6,8],[5.8,0,7,4],[3,4,7,9]])\n",
    "print(a)\n",
    "s_a=a[:3,::3] #slising method\n",
    "print(s_a)"
   ]
  },
  {
   "cell_type": "code",
   "execution_count": 9,
   "id": "565d1f92",
   "metadata": {},
   "outputs": [
    {
     "name": "stdout",
     "output_type": "stream",
     "text": [
      "[[ 4.  -0.5  6.   8. ]]\n"
     ]
    }
   ],
   "source": [
    "i_a=a[1:2]\n",
    "print(i_a) #indexing "
   ]
  },
  {
   "cell_type": "markdown",
   "id": "3c094267",
   "metadata": {},
   "source": [
    "#### basic operations on array"
   ]
  },
  {
   "cell_type": "code",
   "execution_count": 14,
   "id": "93a341c7",
   "metadata": {},
   "outputs": [
    {
     "name": "stdout",
     "output_type": "stream",
     "text": [
      "adding 3 to every element:\n",
      " [[ 2.   5.   9.  11. ]\n",
      " [ 7.   2.5  9.  11. ]\n",
      " [ 8.8  3.  10.   7. ]\n",
      " [ 6.   7.  10.  12. ]]\n",
      "subtracting 5 from each element:\n",
      " [[-3.   0.   6.  -1. ]\n",
      " [ 0.  -2.8  4.5  7. ]\n",
      " [ 3.7  4.   7.   2.6]\n",
      " [ 7.   3.   4.   1. ]]\n",
      "suming all elements in the the array\n",
      " 72.3\n",
      "suming the arrays:\n",
      " [[-2.   4.  14.   9. ]\n",
      " [ 6.  -1.3 12.5 17. ]\n",
      " [11.5  6.  16.   8.6]\n",
      " [12.   9.  13.  12. ]]\n"
     ]
    }
   ],
   "source": [
    "a=np.array([[-1,2,6,8],[4,-0.5,6,8],[5.8,0,7,4],[3,4,7,9]])\n",
    "b=np.array([[-1,2,8,1],[2,-0.8,6.5,9],[5.7,6,9,4.6],[9,5,6,3]])\n",
    "print(\"adding 3 to every element:\\n\",a+3)\n",
    "print(\"subtracting 5 from each element:\\n\",b-2)\n",
    "print(\"suming all elements in the the array\\n\",a.sum())\n",
    "print(\"suming the arrays:\\n\",a+b)\n"
   ]
  },
  {
   "cell_type": "markdown",
   "id": "e08c261c",
   "metadata": {},
   "source": [
    "#### Data Types in Numpy"
   ]
  },
  {
   "cell_type": "code",
   "execution_count": 15,
   "id": "30dbbb98",
   "metadata": {},
   "outputs": [
    {
     "name": "stdout",
     "output_type": "stream",
     "text": [
      "float64\n"
     ]
    }
   ],
   "source": [
    "print(a.dtype)"
   ]
  },
  {
   "cell_type": "code",
   "execution_count": 18,
   "id": "4cd8e480",
   "metadata": {},
   "outputs": [
    {
     "name": "stdout",
     "output_type": "stream",
     "text": [
      "[1 2]\n"
     ]
    }
   ],
   "source": [
    "c=np.array([1.02,2.6],dtype=np.int64)# forcing a datatype\n",
    "print(c)"
   ]
  },
  {
   "cell_type": "markdown",
   "id": "e7b2a92e",
   "metadata": {},
   "source": [
    "#### Math Operations on DataType array"
   ]
  },
  {
   "cell_type": "code",
   "execution_count": 21,
   "id": "e2864dd9",
   "metadata": {},
   "outputs": [
    {
     "name": "stdout",
     "output_type": "stream",
     "text": [
      "[[       nan 1.41421356 2.44948974 2.82842712]\n",
      " [2.                nan 2.44948974 2.82842712]\n",
      " [2.40831892 0.         2.64575131 2.        ]\n",
      " [1.73205081 2.         2.64575131 3.        ]]\n"
     ]
    },
    {
     "name": "stderr",
     "output_type": "stream",
     "text": [
      "<ipython-input-21-068ba71d7688>:1: RuntimeWarning: invalid value encountered in sqrt\n",
      "  sq=np.sqrt(a) # square root of array\n"
     ]
    }
   ],
   "source": [
    "sq=np.sqrt(a) # square root of array\n",
    "print(sq)"
   ]
  },
  {
   "cell_type": "code",
   "execution_count": 23,
   "id": "39dc8066",
   "metadata": {},
   "outputs": [
    {
     "name": "stdout",
     "output_type": "stream",
     "text": [
      "[[-1.   4.   5.8  3. ]\n",
      " [ 2.  -0.5  0.   4. ]\n",
      " [ 6.   6.   7.   7. ]\n",
      " [ 8.   8.   4.   9. ]]\n"
     ]
    }
   ],
   "source": [
    "t=a.T # transpose of array\n",
    "print(t)"
   ]
  },
  {
   "cell_type": "markdown",
   "id": "4866ff48",
   "metadata": {},
   "source": [
    "## pandas"
   ]
  },
  {
   "cell_type": "markdown",
   "id": "f6eeebdb",
   "metadata": {},
   "source": [
    "#### About the library\n",
    "Pandas is an open-source library that is built on top of NumPy library. It is a Python package that offers various data structures and operations for manipulating numerical data and time series. It is mainly popular for importing and analyzing data much easier. Pandas is fast and it has high-performance & productivity for users."
   ]
  },
  {
   "cell_type": "code",
   "execution_count": 27,
   "id": "cd046ba7",
   "metadata": {},
   "outputs": [],
   "source": [
    "import pandas as pd"
   ]
  },
  {
   "cell_type": "code",
   "execution_count": 91,
   "id": "8a7a4711",
   "metadata": {},
   "outputs": [
    {
     "data": {
      "text/html": [
       "<div>\n",
       "<style scoped>\n",
       "    .dataframe tbody tr th:only-of-type {\n",
       "        vertical-align: middle;\n",
       "    }\n",
       "\n",
       "    .dataframe tbody tr th {\n",
       "        vertical-align: top;\n",
       "    }\n",
       "\n",
       "    .dataframe thead th {\n",
       "        text-align: right;\n",
       "    }\n",
       "</style>\n",
       "<table border=\"1\" class=\"dataframe\">\n",
       "  <thead>\n",
       "    <tr style=\"text-align: right;\">\n",
       "      <th></th>\n",
       "      <th>sepal length (cm)</th>\n",
       "      <th>sepal width (cm)</th>\n",
       "      <th>petal length (cm)</th>\n",
       "      <th>petal width (cm)</th>\n",
       "    </tr>\n",
       "  </thead>\n",
       "  <tbody>\n",
       "    <tr>\n",
       "      <th>0</th>\n",
       "      <td>5.1</td>\n",
       "      <td>3.5</td>\n",
       "      <td>1.4</td>\n",
       "      <td>0.2</td>\n",
       "    </tr>\n",
       "    <tr>\n",
       "      <th>1</th>\n",
       "      <td>4.9</td>\n",
       "      <td>3.0</td>\n",
       "      <td>1.4</td>\n",
       "      <td>0.2</td>\n",
       "    </tr>\n",
       "    <tr>\n",
       "      <th>2</th>\n",
       "      <td>4.7</td>\n",
       "      <td>3.2</td>\n",
       "      <td>1.3</td>\n",
       "      <td>0.2</td>\n",
       "    </tr>\n",
       "    <tr>\n",
       "      <th>3</th>\n",
       "      <td>4.6</td>\n",
       "      <td>3.1</td>\n",
       "      <td>1.5</td>\n",
       "      <td>0.2</td>\n",
       "    </tr>\n",
       "    <tr>\n",
       "      <th>4</th>\n",
       "      <td>5.0</td>\n",
       "      <td>3.6</td>\n",
       "      <td>1.4</td>\n",
       "      <td>0.2</td>\n",
       "    </tr>\n",
       "  </tbody>\n",
       "</table>\n",
       "</div>"
      ],
      "text/plain": [
       "   sepal length (cm)  sepal width (cm)  petal length (cm)  petal width (cm)\n",
       "0                5.1               3.5                1.4               0.2\n",
       "1                4.9               3.0                1.4               0.2\n",
       "2                4.7               3.2                1.3               0.2\n",
       "3                4.6               3.1                1.5               0.2\n",
       "4                5.0               3.6                1.4               0.2"
      ]
     },
     "execution_count": 91,
     "metadata": {},
     "output_type": "execute_result"
    }
   ],
   "source": [
    "df=pd.DataFrame(data.data,columns=data.feature_names)\n",
    "df.head()"
   ]
  },
  {
   "cell_type": "code",
   "execution_count": 69,
   "id": "aeccfa59",
   "metadata": {},
   "outputs": [
    {
     "data": {
      "text/plain": [
       "Index(['sepal length (cm)', 'sepal width (cm)', 'petal length (cm)',\n",
       "       'petal width (cm)'],\n",
       "      dtype='object')"
      ]
     },
     "execution_count": 69,
     "metadata": {},
     "output_type": "execute_result"
    }
   ],
   "source": [
    "df.columns"
   ]
  },
  {
   "cell_type": "code",
   "execution_count": 70,
   "id": "09e87d21",
   "metadata": {},
   "outputs": [
    {
     "data": {
      "text/plain": [
       "(150, 4)"
      ]
     },
     "execution_count": 70,
     "metadata": {},
     "output_type": "execute_result"
    }
   ],
   "source": [
    "df.shape"
   ]
  },
  {
   "cell_type": "code",
   "execution_count": 71,
   "id": "d6d03667",
   "metadata": {},
   "outputs": [
    {
     "name": "stdout",
     "output_type": "stream",
     "text": [
      "     sepal length (cm)  sepal width (cm)  petal length (cm)  petal width (cm)\n",
      "0                  5.1               3.5                1.4               0.2\n",
      "1                  4.9               3.0                1.4               0.2\n",
      "2                  4.7               3.2                1.3               0.2\n",
      "3                  4.6               3.1                1.5               0.2\n",
      "4                  5.0               3.6                1.4               0.2\n",
      "..                 ...               ...                ...               ...\n",
      "145                6.7               3.0                5.2               2.3\n",
      "146                6.3               2.5                5.0               1.9\n",
      "147                6.5               3.0                5.2               2.0\n",
      "148                6.2               3.4                5.4               2.3\n",
      "149                5.9               3.0                5.1               1.8\n",
      "\n",
      "[150 rows x 4 columns]\n"
     ]
    }
   ],
   "source": [
    "print(df)"
   ]
  },
  {
   "cell_type": "markdown",
   "id": "8dbf0b5a",
   "metadata": {},
   "source": [
    "#### Filtering : iloc"
   ]
  },
  {
   "cell_type": "code",
   "execution_count": 72,
   "id": "d6b4705c",
   "metadata": {},
   "outputs": [
    {
     "data": {
      "text/plain": [
       "sepal length (cm)    5.0\n",
       "sepal width (cm)     3.6\n",
       "petal length (cm)    1.4\n",
       "petal width (cm)     0.2\n",
       "Name: 4, dtype: float64"
      ]
     },
     "execution_count": 72,
     "metadata": {},
     "output_type": "execute_result"
    }
   ],
   "source": [
    "df.iloc[4] # the “iloc” functions use the index integer of the row, which gives complete information about the row."
   ]
  },
  {
   "cell_type": "code",
   "execution_count": 75,
   "id": "aa88613e",
   "metadata": {},
   "outputs": [
    {
     "data": {
      "text/plain": [
       "876.5"
      ]
     },
     "execution_count": 75,
     "metadata": {},
     "output_type": "execute_result"
    }
   ],
   "source": [
    "sum_df=df[\"sepal length (cm)\"].sum()\n",
    "sum_df"
   ]
  },
  {
   "cell_type": "code",
   "execution_count": 77,
   "id": "b0681a8a",
   "metadata": {},
   "outputs": [
    {
     "data": {
      "text/plain": [
       "5.843333333333335"
      ]
     },
     "execution_count": 77,
     "metadata": {},
     "output_type": "execute_result"
    }
   ],
   "source": [
    "mean_df=df[\"sepal length (cm)\"].mean()\n",
    "mean_df"
   ]
  },
  {
   "cell_type": "code",
   "execution_count": 79,
   "id": "450524e0",
   "metadata": {},
   "outputs": [
    {
     "data": {
      "text/plain": [
       "4.3"
      ]
     },
     "execution_count": 79,
     "metadata": {},
     "output_type": "execute_result"
    }
   ],
   "source": [
    "min_df=df[\"sepal length (cm)\"].min()\n",
    "min_df"
   ]
  },
  {
   "cell_type": "code",
   "execution_count": 80,
   "id": "d1023c44",
   "metadata": {},
   "outputs": [
    {
     "data": {
      "text/plain": [
       "7.9"
      ]
     },
     "execution_count": 80,
     "metadata": {},
     "output_type": "execute_result"
    }
   ],
   "source": [
    "max_df=df[\"sepal length (cm)\"].max()\n",
    "max_df"
   ]
  },
  {
   "cell_type": "markdown",
   "id": "4c31f618",
   "metadata": {},
   "source": [
    "### Renameing the columns"
   ]
  },
  {
   "cell_type": "code",
   "execution_count": 83,
   "id": "320d9100",
   "metadata": {},
   "outputs": [
    {
     "name": "stdout",
     "output_type": "stream",
     "text": [
      "   sepallength  sepalwidth  petallength  petal width (cm)\n",
      "0          5.1         3.5          1.4               0.2\n",
      "1          4.9         3.0          1.4               0.2\n",
      "2          4.7         3.2          1.3               0.2\n",
      "3          4.6         3.1          1.5               0.2\n",
      "4          5.0         3.6          1.4               0.2\n"
     ]
    }
   ],
   "source": [
    "new_col={\"sepal length (cm)\":\"sepallength\",\n",
    "        \"sepal width (cm)\":\"sepalwidth\",\n",
    "        \"petal length (cm)\":\"petallength\"}\n",
    "df.rename(columns=new_col,inplace=True)\n",
    "print(df.head())"
   ]
  },
  {
   "cell_type": "markdown",
   "id": "55a6bfca",
   "metadata": {},
   "source": [
    "#### cleaning "
   ]
  },
  {
   "cell_type": "code",
   "execution_count": 92,
   "id": "b152e48b",
   "metadata": {},
   "outputs": [
    {
     "data": {
      "text/html": [
       "<div>\n",
       "<style scoped>\n",
       "    .dataframe tbody tr th:only-of-type {\n",
       "        vertical-align: middle;\n",
       "    }\n",
       "\n",
       "    .dataframe tbody tr th {\n",
       "        vertical-align: top;\n",
       "    }\n",
       "\n",
       "    .dataframe thead th {\n",
       "        text-align: right;\n",
       "    }\n",
       "</style>\n",
       "<table border=\"1\" class=\"dataframe\">\n",
       "  <thead>\n",
       "    <tr style=\"text-align: right;\">\n",
       "      <th></th>\n",
       "      <th>sepal length (cm)</th>\n",
       "      <th>sepal width (cm)</th>\n",
       "      <th>petal length (cm)</th>\n",
       "      <th>petal width (cm)</th>\n",
       "    </tr>\n",
       "  </thead>\n",
       "  <tbody>\n",
       "    <tr>\n",
       "      <th>0</th>\n",
       "      <td>False</td>\n",
       "      <td>False</td>\n",
       "      <td>False</td>\n",
       "      <td>False</td>\n",
       "    </tr>\n",
       "    <tr>\n",
       "      <th>1</th>\n",
       "      <td>False</td>\n",
       "      <td>False</td>\n",
       "      <td>False</td>\n",
       "      <td>False</td>\n",
       "    </tr>\n",
       "    <tr>\n",
       "      <th>2</th>\n",
       "      <td>False</td>\n",
       "      <td>False</td>\n",
       "      <td>False</td>\n",
       "      <td>False</td>\n",
       "    </tr>\n",
       "    <tr>\n",
       "      <th>3</th>\n",
       "      <td>False</td>\n",
       "      <td>False</td>\n",
       "      <td>False</td>\n",
       "      <td>False</td>\n",
       "    </tr>\n",
       "    <tr>\n",
       "      <th>4</th>\n",
       "      <td>False</td>\n",
       "      <td>False</td>\n",
       "      <td>False</td>\n",
       "      <td>False</td>\n",
       "    </tr>\n",
       "    <tr>\n",
       "      <th>...</th>\n",
       "      <td>...</td>\n",
       "      <td>...</td>\n",
       "      <td>...</td>\n",
       "      <td>...</td>\n",
       "    </tr>\n",
       "    <tr>\n",
       "      <th>145</th>\n",
       "      <td>False</td>\n",
       "      <td>False</td>\n",
       "      <td>False</td>\n",
       "      <td>False</td>\n",
       "    </tr>\n",
       "    <tr>\n",
       "      <th>146</th>\n",
       "      <td>False</td>\n",
       "      <td>False</td>\n",
       "      <td>False</td>\n",
       "      <td>False</td>\n",
       "    </tr>\n",
       "    <tr>\n",
       "      <th>147</th>\n",
       "      <td>False</td>\n",
       "      <td>False</td>\n",
       "      <td>False</td>\n",
       "      <td>False</td>\n",
       "    </tr>\n",
       "    <tr>\n",
       "      <th>148</th>\n",
       "      <td>False</td>\n",
       "      <td>False</td>\n",
       "      <td>False</td>\n",
       "      <td>False</td>\n",
       "    </tr>\n",
       "    <tr>\n",
       "      <th>149</th>\n",
       "      <td>False</td>\n",
       "      <td>False</td>\n",
       "      <td>False</td>\n",
       "      <td>False</td>\n",
       "    </tr>\n",
       "  </tbody>\n",
       "</table>\n",
       "<p>150 rows × 4 columns</p>\n",
       "</div>"
      ],
      "text/plain": [
       "     sepal length (cm)  sepal width (cm)  petal length (cm)  petal width (cm)\n",
       "0                False             False              False             False\n",
       "1                False             False              False             False\n",
       "2                False             False              False             False\n",
       "3                False             False              False             False\n",
       "4                False             False              False             False\n",
       "..                 ...               ...                ...               ...\n",
       "145              False             False              False             False\n",
       "146              False             False              False             False\n",
       "147              False             False              False             False\n",
       "148              False             False              False             False\n",
       "149              False             False              False             False\n",
       "\n",
       "[150 rows x 4 columns]"
      ]
     },
     "execution_count": 92,
     "metadata": {},
     "output_type": "execute_result"
    }
   ],
   "source": [
    "df.isnull()"
   ]
  },
  {
   "cell_type": "markdown",
   "id": "97cccdc8",
   "metadata": {},
   "source": [
    "### Seaborn"
   ]
  },
  {
   "cell_type": "markdown",
   "id": "3e73b9d0",
   "metadata": {},
   "source": [
    "#### About the library\n",
    " it provides a beautiful with different styled graph plotting that make our dataset more distinguishable and attractive.\n",
    " Seaborn helps resolve the two major problems faced by Matplotlib; the problems are?\n",
    "\n",
    "- Default Matplotlib parameters\n",
    "- Working with data frames"
   ]
  },
  {
   "cell_type": "code",
   "execution_count": 107,
   "id": "b30e6abf",
   "metadata": {},
   "outputs": [],
   "source": [
    "import seaborn as sns\n",
    "import matplotlib.pyplot as plt"
   ]
  },
  {
   "cell_type": "code",
   "execution_count": 108,
   "id": "59432278",
   "metadata": {},
   "outputs": [],
   "source": [
    "data=sns.load_dataset('iris')"
   ]
  },
  {
   "cell_type": "code",
   "execution_count": 109,
   "id": "73d0e74b",
   "metadata": {},
   "outputs": [
    {
     "data": {
      "text/html": [
       "<div>\n",
       "<style scoped>\n",
       "    .dataframe tbody tr th:only-of-type {\n",
       "        vertical-align: middle;\n",
       "    }\n",
       "\n",
       "    .dataframe tbody tr th {\n",
       "        vertical-align: top;\n",
       "    }\n",
       "\n",
       "    .dataframe thead th {\n",
       "        text-align: right;\n",
       "    }\n",
       "</style>\n",
       "<table border=\"1\" class=\"dataframe\">\n",
       "  <thead>\n",
       "    <tr style=\"text-align: right;\">\n",
       "      <th></th>\n",
       "      <th>sepal_length</th>\n",
       "      <th>sepal_width</th>\n",
       "      <th>petal_length</th>\n",
       "      <th>petal_width</th>\n",
       "      <th>species</th>\n",
       "    </tr>\n",
       "  </thead>\n",
       "  <tbody>\n",
       "    <tr>\n",
       "      <th>0</th>\n",
       "      <td>5.1</td>\n",
       "      <td>3.5</td>\n",
       "      <td>1.4</td>\n",
       "      <td>0.2</td>\n",
       "      <td>setosa</td>\n",
       "    </tr>\n",
       "    <tr>\n",
       "      <th>1</th>\n",
       "      <td>4.9</td>\n",
       "      <td>3.0</td>\n",
       "      <td>1.4</td>\n",
       "      <td>0.2</td>\n",
       "      <td>setosa</td>\n",
       "    </tr>\n",
       "    <tr>\n",
       "      <th>2</th>\n",
       "      <td>4.7</td>\n",
       "      <td>3.2</td>\n",
       "      <td>1.3</td>\n",
       "      <td>0.2</td>\n",
       "      <td>setosa</td>\n",
       "    </tr>\n",
       "    <tr>\n",
       "      <th>3</th>\n",
       "      <td>4.6</td>\n",
       "      <td>3.1</td>\n",
       "      <td>1.5</td>\n",
       "      <td>0.2</td>\n",
       "      <td>setosa</td>\n",
       "    </tr>\n",
       "    <tr>\n",
       "      <th>4</th>\n",
       "      <td>5.0</td>\n",
       "      <td>3.6</td>\n",
       "      <td>1.4</td>\n",
       "      <td>0.2</td>\n",
       "      <td>setosa</td>\n",
       "    </tr>\n",
       "  </tbody>\n",
       "</table>\n",
       "</div>"
      ],
      "text/plain": [
       "   sepal_length  sepal_width  petal_length  petal_width species\n",
       "0           5.1          3.5           1.4          0.2  setosa\n",
       "1           4.9          3.0           1.4          0.2  setosa\n",
       "2           4.7          3.2           1.3          0.2  setosa\n",
       "3           4.6          3.1           1.5          0.2  setosa\n",
       "4           5.0          3.6           1.4          0.2  setosa"
      ]
     },
     "execution_count": 109,
     "metadata": {},
     "output_type": "execute_result"
    }
   ],
   "source": [
    "data.head()"
   ]
  },
  {
   "cell_type": "markdown",
   "id": "cf905f0d",
   "metadata": {},
   "source": [
    "Draw a plot of two variables with bivariate and univariate graphs. This function provides a convenient interface to the ‘JointGrid’ class, with several canned plot kinds. This is intended to be a fairly lightweight wrapper; if you need more flexibility, you should use :class:’JointGrid’ directly."
   ]
  },
  {
   "cell_type": "code",
   "execution_count": 131,
   "id": "c49ace0c",
   "metadata": {},
   "outputs": [
    {
     "data": {
      "image/png": "[encoded data removed]",
      "text/plain": [
       "<Figure size 576x576 with 3 Axes>"
      ]
     },
     "metadata": {},
     "output_type": "display_data"
    }
   ],
   "source": [
    "b=sns.jointplot(x='sepal_width',y='sepal_length',data=data,height=8,alpha=.6,color='k',marker='x')"
   ]
  },
  {
   "cell_type": "markdown",
   "id": "bf525887",
   "metadata": {},
   "source": [
    "FacetGrid class helps in visualizing distribution of one variable as well as the relationship between multiple variables separately within subsets of your dataset using multiple panels."
   ]
  },
  {
   "cell_type": "code",
   "execution_count": 119,
   "id": "a25dfc76",
   "metadata": {},
   "outputs": [
    {
     "data": {
      "text/plain": [
       "<seaborn.axisgrid.FacetGrid at 0x2297b8904c0>"
      ]
     },
     "execution_count": 119,
     "metadata": {},
     "output_type": "execute_result"
    },
    {
     "data": {
      "image/png": "[encoded data removed]",
      "text/plain": [
       "<Figure size 648x216 with 3 Axes>"
      ]
     },
     "metadata": {},
     "output_type": "display_data"
    }
   ],
   "source": [
    "c=sns.FacetGrid(data,col='species')\n",
    "c.map(plt.scatter,'sepal_length','sepal_width')"
   ]
  },
  {
   "cell_type": "markdown",
   "id": "5ee4c2bc",
   "metadata": {},
   "source": [
    "if we are working with the categorical varables .than the best tool to visulize and compare diffrent featurs of your data would be categorical plot."
   ]
  },
  {
   "cell_type": "code",
   "execution_count": 125,
   "id": "22b6ff0c",
   "metadata": {},
   "outputs": [
    {
     "data": {
      "text/plain": [
       "<seaborn.axisgrid.FacetGrid at 0x229784568e0>"
      ]
     },
     "execution_count": 125,
     "metadata": {},
     "output_type": "execute_result"
    },
    {
     "data": {
      "image/png": "[encoded data removed]",
      "text/plain": [
       "<Figure size 1080x360 with 3 Axes>"
      ]
     },
     "metadata": {},
     "output_type": "display_data"
    }
   ],
   "source": [
    "e=sns.catplot(x=\"sepal_width\",y=\"sepal_length\",col=\"species\",data=data)\n",
    "e.set(xticklabels=[])"
   ]
  },
  {
   "cell_type": "markdown",
   "id": "c30c72fc",
   "metadata": {},
   "source": [
    "A violin plot plays a similar activity that is pursued through whisker or box plot do. As it shows several quantitative data across one or more categorical variables."
   ]
  },
  {
   "cell_type": "code",
   "execution_count": 127,
   "id": "8569405e",
   "metadata": {},
   "outputs": [
    {
     "data": {
      "image/png": "[encoded data removed]",
      "text/plain": [
       "<Figure size 432x288 with 1 Axes>"
      ]
     },
     "metadata": {},
     "output_type": "display_data"
    }
   ],
   "source": [
    "e=sns.violinplot(x=\"species\",y=\"sepal_length\",data=data)"
   ]
  },
  {
   "cell_type": "markdown",
   "id": "27c5a5d6",
   "metadata": {},
   "source": [
    "## Theano"
   ]
  },
  {
   "cell_type": "markdown",
   "id": "87e92f32",
   "metadata": {},
   "source": [
    "- Theano is a Python library that allows us to evaluate mathematical operations including multi-dimensional arrays so efficiently. It is mostly used in building Deep Learning Projects. It works a way more faster on Graphics Processing Unit (GPU) rather than on CPU. \n",
    "- It knows how to take structures and convert them into very efficient code that uses numpy and some native libraries. It is mainly designed to handle the types of computation required for large neural network algorithms used in Deep Learning.\n",
    "- Theano is a sort of hybrid between numpy and sympy, an attempt is made to combine the two into one powerful library.\n",
    " - Stability Optimization\n",
    " - Execution Speed Optimization\n",
    " - Symbolic Differentiation"
   ]
  },
  {
   "cell_type": "markdown",
   "id": "716b0c13",
   "metadata": {},
   "source": [
    "#### Basics of Theano"
   ]
  },
  {
   "cell_type": "code",
   "execution_count": 2,
   "id": "562035ea",
   "metadata": {},
   "outputs": [],
   "source": [
    "import theano\n",
    "from theano import tensor"
   ]
  },
  {
   "cell_type": "code",
   "execution_count": 4,
   "id": "75530a34",
   "metadata": {},
   "outputs": [],
   "source": [
    "# declaration variables\n",
    "a=tensor.dscalar()\n",
    "b=tensor.dscalar()\n",
    "# subtract a-b\n",
    "res=a-b\n",
    "# converting it to callable object\n",
    "# so that it takes matrix as parameters\n",
    "func= theano.function([a,b],res)\n",
    "# calling function\n",
    "assert 20.0==func(30.5,10.5) # no output because as the assertion of two number matches the number given,hence it results into a true value."
   ]
  },
  {
   "cell_type": "code",
   "execution_count": 5,
   "id": "8ae9591b",
   "metadata": {},
   "outputs": [],
   "source": [
    "import numpy \n",
    "import theano.tensor as T\n",
    "from theano import function"
   ]
  },
  {
   "cell_type": "code",
   "execution_count": 8,
   "id": "0b2b86e7",
   "metadata": {},
   "outputs": [
    {
     "data": {
      "text/plain": [
       "array(12.8)"
      ]
     },
     "execution_count": 8,
     "metadata": {},
     "output_type": "execute_result"
    }
   ],
   "source": [
    "# Addition of two scalars \n",
    "x=T.dscalar('x')\n",
    "y=T.dscalar('y')\n",
    "z=x+y\n",
    "f=function([x,y],z)# converting the callable object\n",
    "# so that it takes matrex as parameters\n",
    "f(5.8,7)"
   ]
  },
  {
   "cell_type": "code",
   "execution_count": 11,
   "id": "1e487831",
   "metadata": {},
   "outputs": [
    {
     "data": {
      "text/plain": [
       "array([[30., 50.],\n",
       "       [ 2.,  3.]])"
      ]
     },
     "execution_count": 11,
     "metadata": {},
     "output_type": "execute_result"
    }
   ],
   "source": [
    "# adding two matrices\n",
    "x=T.dmatrix('x')\n",
    "y=T.dmatrix('y')\n",
    "z=x%y\n",
    "f=function([x,y],z)\n",
    "f([[30,50],[2,3]],[[60,70],[3,4]])"
   ]
  },
  {
   "cell_type": "markdown",
   "id": "d20be9e3",
   "metadata": {},
   "source": [
    "# SciPy"
   ]
  },
  {
   "cell_type": "markdown",
   "id": "713667b6",
   "metadata": {},
   "source": [
    "- SciPy is a python library that is useful in solving many mathematical equations and algorithms. It is designed on the top of Numpy library that gives more extension of finding scientific mathematical formulae like Matrix Rank, Inverse, polynomial equations, LU Decomposition, etc. Using its high level functions will significantly reduce the complexity of the code and helps in better analyzing the data.\n",
    "- SciPy is an interactive Python session used as a data-processing library that is made to compete with its rivalries such as MATLAB, Octave, R-Lab,etc\n",
    "- The benefit of using SciPy library in Python while making ML models is that it also makes a strong programming language available for use in developing less complex programs and applications.\n"
   ]
  },
  {
   "cell_type": "code",
   "execution_count": 8,
   "id": "8ddb9a96",
   "metadata": {},
   "outputs": [],
   "source": [
    "import numpy as np\n",
    "A=np.array([[1,2,3],[4,5,6],[7,8,6]])"
   ]
  },
  {
   "cell_type": "code",
   "execution_count": 9,
   "id": "a655555a",
   "metadata": {},
   "outputs": [
    {
     "data": {
      "text/plain": [
       "8.999999999999996"
      ]
     },
     "execution_count": 9,
     "metadata": {},
     "output_type": "execute_result"
    }
   ],
   "source": [
    "# 1.determinant of a matrix\n",
    "from scipy import linalg # Linear algebra\n",
    "# comput the determinant of a matrix\n",
    "linalg.det(A)\n"
   ]
  },
  {
   "cell_type": "markdown",
   "id": "ac5cbf1d",
   "metadata": {},
   "source": [
    "##### Compute pivoted LU decomposition of a matrix\n",
    "##### LU decomposition is a method that reduce matrix into constituent parts that helps in easier calculation of complex matrix operations.\n",
    "- The decomposition is:\n",
    " - A = P L U\n",
    "  - where P is a permutation matrix, L lower triangular with unit diagonal elements, and U upper triangular."
   ]
  },
  {
   "cell_type": "code",
   "execution_count": 10,
   "id": "90380fc7",
   "metadata": {},
   "outputs": [
    {
     "name": "stdout",
     "output_type": "stream",
     "text": [
      "[[0. 1. 0.]\n",
      " [0. 0. 1.]\n",
      " [1. 0. 0.]]\n",
      "[[1.         0.         0.        ]\n",
      " [0.14285714 1.         0.        ]\n",
      " [0.57142857 0.5        1.        ]]\n",
      "[[7.         8.         6.        ]\n",
      " [0.         0.85714286 2.14285714]\n",
      " [0.         0.         1.5       ]]\n",
      "[[7. 8. 6.]\n",
      " [1. 2. 3.]\n",
      " [4. 5. 6.]]\n"
     ]
    }
   ],
   "source": [
    "P,L,U=linalg.lu(A)\n",
    "print(P) #permutation matrix is a square binary matrix that has exactly one entry of 1 in each row and each column and 0s elsewhere.\n",
    "print(L)\n",
    "print(U)\n",
    "print(np.dot(L,U))"
   ]
  },
  {
   "cell_type": "markdown",
   "id": "f41775cb",
   "metadata": {},
   "source": [
    "### Eigen values and eigen vectors of this matrix"
   ]
  },
  {
   "cell_type": "code",
   "execution_count": 11,
   "id": "009ecfe8",
   "metadata": {},
   "outputs": [
    {
     "name": "stdout",
     "output_type": "stream",
     "text": [
      "[14.5217229 +0.j -0.27597038+0.j -2.24575252+0.j]\n",
      "[[-0.25707452 -0.64581239 -0.49212703]\n",
      " [-0.59019689  0.73291246 -0.37776662]\n",
      " [-0.7652322  -0.21392915  0.78428526]]\n"
     ]
    }
   ],
   "source": [
    "eigen_value,eigen_vectors=linalg.eig(A)\n",
    "print(eigen_value)\n",
    "print(eigen_vectors)"
   ]
  },
  {
   "cell_type": "markdown",
   "id": "031b5345",
   "metadata": {},
   "source": [
    "### Solving systems of linear equations can also be done\n"
   ]
  },
  {
   "cell_type": "code",
   "execution_count": 12,
   "id": "381e35f3",
   "metadata": {},
   "outputs": [
    {
     "name": "stdout",
     "output_type": "stream",
     "text": [
      "[[2]\n",
      " [3]\n",
      " [5]]\n",
      "[[-1.66666667]\n",
      " [ 2.33333333]\n",
      " [-0.33333333]]\n"
     ]
    }
   ],
   "source": [
    "v=np.array([[2],[3],[5]])\n",
    "print(v)\n",
    "s=linalg.solve(A,v)\n",
    "print(s)"
   ]
  },
  {
   "cell_type": "markdown",
   "id": "8ebb6f2f",
   "metadata": {},
   "source": [
    "### Sparse Linear Algebra"
   ]
  },
  {
   "cell_type": "markdown",
   "id": "968f5ec1",
   "metadata": {},
   "source": [
    "- SciPy has some routines for computing with sparse and potentially very large matrices. The necessary tools are in the submodule scipy"
   ]
  },
  {
   "cell_type": "code",
   "execution_count": 13,
   "id": "9b9a907a",
   "metadata": {},
   "outputs": [],
   "source": [
    "from scipy import sparse"
   ]
  },
  {
   "cell_type": "code",
   "execution_count": 24,
   "id": "52729ad8",
   "metadata": {},
   "outputs": [
    {
     "name": "stdout",
     "output_type": "stream",
     "text": [
      "\n",
      "  (0, 0)\t0.8711508289501131\n",
      "  (0, 1)\t0.756601040182103\n",
      "  (0, 2)\t0.9453594874354321\n",
      "  (0, 3)\t0.5218851938214855\n",
      "  (0, 4)\t0.9186307163933081\n",
      "  (0, 5)\t0.10839037651350591\n",
      "  (0, 6)\t0.36275417866911275\n",
      "  (0, 7)\t0.21283202041817184\n",
      "  (0, 8)\t0.6875722454003927\n",
      "  (0, 9)\t0.7746989828848069\n",
      "  (0, 10)\t0.21138546016882032\n",
      "  (0, 11)\t0.03294218115622938\n",
      "  (0, 12)\t0.1396381174590401\n",
      "  (0, 13)\t0.46941937654923616\n",
      "  (0, 14)\t0.9780322531352301\n",
      "  (0, 15)\t0.5140565879625186\n",
      "  (0, 16)\t0.7726650020802066\n",
      "  (0, 17)\t0.12602695035109057\n",
      "  (0, 18)\t0.0008601866514830192\n",
      "  (0, 19)\t0.665069065106208\n",
      "  (0, 20)\t0.6238104449047923\n",
      "  (0, 21)\t0.5880377440015461\n",
      "  (0, 22)\t0.5446001902089898\n",
      "  (0, 23)\t0.8135690311754391\n",
      "  (0, 24)\t0.32208060696585195\n",
      "  (0, 25)\t0.8408302086281976\n",
      "  (0, 26)\t0.518073827514165\n",
      "  (0, 27)\t0.9536230706687182\n",
      "  (0, 28)\t0.0019178201107170612\n",
      "  (0, 29)\t0.007083216331932651\n",
      "  (0, 30)\t0.8172579477107647\n",
      "  (0, 31)\t0.8611278636668446\n",
      "  (0, 32)\t0.028105730208169533\n",
      "  (0, 33)\t0.4765645118352403\n",
      "  (0, 34)\t0.8609795946701742\n",
      "  (0, 35)\t0.48674109489485606\n",
      "  (0, 36)\t0.5483819799745431\n",
      "  (0, 37)\t0.34937410317023443\n",
      "  (0, 38)\t0.14947719105263202\n",
      "  (0, 39)\t0.048803932826483654\n",
      "  (0, 40)\t0.08048171034320895\n",
      "  (0, 41)\t0.5206510070292073\n",
      "  (0, 42)\t0.13992209119664045\n",
      "  (0, 43)\t0.5400617431410246\n",
      "  (0, 44)\t0.6255540146760467\n",
      "  (0, 45)\t0.07104240743314172\n",
      "  (0, 46)\t0.4442829807360483\n",
      "  (0, 47)\t0.08179990776169388\n",
      "  (0, 48)\t0.9329981725601716\n",
      "  (0, 49)\t0.6126377764247084\n",
      "  (0, 50)\t0.17220360388994604\n",
      "  (0, 51)\t0.8673338662492444\n",
      "  (0, 52)\t0.6941132892477526\n",
      "  (0, 53)\t0.5743232220839591\n",
      "  (0, 54)\t0.2621640779926889\n",
      "  (0, 55)\t0.7668096576118509\n",
      "  (0, 56)\t0.1846107423080504\n",
      "  (0, 57)\t0.06357043778233262\n",
      "  (0, 58)\t0.15232317310093246\n",
      "  (0, 59)\t0.5835525683526809\n",
      "  (0, 60)\t0.7483366608594839\n",
      "  (0, 61)\t0.22931424127358735\n",
      "  (0, 62)\t0.10034795771018423\n",
      "  (0, 63)\t0.356962728740277\n",
      "  (0, 64)\t0.4565866339671575\n",
      "  (0, 65)\t0.8777706519888954\n",
      "  (0, 66)\t0.4880318778596583\n",
      "  (0, 67)\t0.7141581033011498\n",
      "  (0, 68)\t0.9241909642696712\n",
      "  (0, 69)\t0.13880374451732247\n",
      "  (0, 70)\t0.40163287160816463\n",
      "  (0, 71)\t0.5070776021740442\n",
      "  (0, 72)\t0.6548422587544793\n",
      "  (0, 73)\t0.1940442367219406\n",
      "  (0, 74)\t0.3705095451264433\n",
      "  (0, 75)\t0.07374750284761822\n",
      "  (0, 76)\t0.0031695347082375536\n",
      "  (0, 77)\t0.4276404868558654\n",
      "  (0, 78)\t0.9156887328459162\n",
      "  (0, 79)\t0.45475582740125864\n",
      "  (0, 80)\t0.5563414339365955\n",
      "  (0, 81)\t0.546503545761278\n",
      "  (0, 82)\t0.6415187982518022\n",
      "  (0, 83)\t0.11526968331072251\n",
      "  (0, 84)\t0.607156800991197\n",
      "  (0, 85)\t0.8504282064607415\n",
      "  (0, 86)\t0.1778771551545788\n",
      "  (0, 87)\t0.11592827664192684\n",
      "  (0, 88)\t0.20252209837368806\n",
      "  (0, 89)\t0.36731511535055916\n",
      "  (0, 90)\t0.08606269094043306\n",
      "  (0, 91)\t0.4064809438451341\n",
      "  (0, 92)\t0.8503357392604189\n",
      "  (0, 93)\t0.56082272101099\n",
      "  (0, 94)\t0.4853916260016914\n",
      "  (0, 95)\t0.6208220332311766\n",
      "  (0, 96)\t0.8789641237191613\n",
      "  (0, 97)\t0.033948880018679795\n",
      "  (0, 98)\t0.6000751027649059\n",
      "  (0, 99)\t0.6002923631927539\n",
      "  (1, 1)\t0.7099887109414923\n",
      "  (1, 100)\t0.344125595876398\n",
      "  (1, 101)\t0.756601040182103\n",
      "  (1, 102)\t0.9453594874354321\n",
      "  (1, 103)\t0.5218851938214855\n",
      "  (1, 104)\t0.9186307163933081\n",
      "  (1, 105)\t0.10839037651350591\n",
      "  (1, 106)\t0.36275417866911275\n",
      "  (1, 107)\t0.21283202041817184\n",
      "  (1, 108)\t0.6875722454003927\n",
      "  (1, 109)\t0.7746989828848069\n",
      "  (1, 110)\t0.21138546016882032\n",
      "  (1, 111)\t0.03294218115622938\n",
      "  (1, 112)\t0.1396381174590401\n",
      "  (1, 113)\t0.46941937654923616\n",
      "  (1, 114)\t0.9780322531352301\n",
      "  (1, 115)\t0.5140565879625186\n",
      "  (1, 116)\t0.7726650020802066\n",
      "  (1, 117)\t0.12602695035109057\n",
      "  (1, 118)\t0.0008601866514830192\n",
      "  (1, 119)\t0.665069065106208\n",
      "  (1, 120)\t0.6238104449047923\n",
      "  (1, 121)\t0.5880377440015461\n",
      "  (1, 122)\t0.5446001902089898\n",
      "  (1, 123)\t0.8135690311754391\n",
      "  (1, 124)\t0.32208060696585195\n",
      "  (1, 125)\t0.8408302086281976\n",
      "  (1, 126)\t0.518073827514165\n",
      "  (1, 127)\t0.9536230706687182\n",
      "  (1, 128)\t0.0019178201107170612\n",
      "  (1, 129)\t0.007083216331932651\n",
      "  (1, 130)\t0.8172579477107647\n",
      "  (1, 131)\t0.8611278636668446\n",
      "  (1, 132)\t0.028105730208169533\n",
      "  (1, 133)\t0.4765645118352403\n",
      "  (1, 134)\t0.8609795946701742\n",
      "  (1, 135)\t0.48674109489485606\n",
      "  (1, 136)\t0.5483819799745431\n",
      "  (1, 137)\t0.34937410317023443\n",
      "  (1, 138)\t0.14947719105263202\n",
      "  (1, 139)\t0.048803932826483654\n",
      "  (1, 140)\t0.08048171034320895\n",
      "  (1, 141)\t0.5206510070292073\n",
      "  (1, 142)\t0.13992209119664045\n",
      "  (1, 143)\t0.5400617431410246\n",
      "  (1, 144)\t0.6255540146760467\n",
      "  (1, 145)\t0.07104240743314172\n",
      "  (1, 146)\t0.4442829807360483\n",
      "  (1, 147)\t0.08179990776169388\n",
      "  (1, 148)\t0.9329981725601716\n",
      "  (1, 149)\t0.6126377764247084\n",
      "  (1, 150)\t0.17220360388994604\n",
      "  (1, 151)\t0.8673338662492444\n",
      "  (1, 152)\t0.6941132892477526\n",
      "  (1, 153)\t0.5743232220839591\n",
      "  (1, 154)\t0.2621640779926889\n",
      "  (1, 155)\t0.7668096576118509\n",
      "  (1, 156)\t0.1846107423080504\n",
      "  (1, 157)\t0.06357043778233262\n",
      "  (1, 158)\t0.15232317310093246\n",
      "  (1, 159)\t0.5835525683526809\n",
      "  (1, 160)\t0.7483366608594839\n",
      "  (1, 161)\t0.22931424127358735\n",
      "  (1, 162)\t0.10034795771018423\n",
      "  (1, 163)\t0.356962728740277\n",
      "  (1, 164)\t0.4565866339671575\n",
      "  (1, 165)\t0.8777706519888954\n",
      "  (1, 166)\t0.4880318778596583\n",
      "  (1, 167)\t0.7141581033011498\n",
      "  (1, 168)\t0.9241909642696712\n",
      "  (1, 169)\t0.13880374451732247\n",
      "  (1, 170)\t0.40163287160816463\n",
      "  (1, 171)\t0.5070776021740442\n",
      "  (1, 172)\t0.6548422587544793\n",
      "  (1, 173)\t0.1940442367219406\n",
      "  (1, 174)\t0.3705095451264433\n",
      "  (1, 175)\t0.07374750284761822\n",
      "  (1, 176)\t0.0031695347082375536\n",
      "  (1, 177)\t0.4276404868558654\n",
      "  (1, 178)\t0.9156887328459162\n",
      "  (1, 179)\t0.45475582740125864\n",
      "  (1, 180)\t0.5563414339365955\n",
      "  (1, 181)\t0.546503545761278\n",
      "  (1, 182)\t0.6415187982518022\n",
      "  (1, 183)\t0.11526968331072251\n",
      "  (1, 184)\t0.607156800991197\n",
      "  (1, 185)\t0.8504282064607415\n",
      "  (1, 186)\t0.1778771551545788\n",
      "  (1, 187)\t0.11592827664192684\n",
      "  (1, 188)\t0.20252209837368806\n",
      "  (1, 189)\t0.36731511535055916\n",
      "  (1, 190)\t0.08606269094043306\n",
      "  (1, 191)\t0.4064809438451341\n",
      "  (1, 192)\t0.8503357392604189\n",
      "  (1, 193)\t0.56082272101099\n",
      "  (1, 194)\t0.4853916260016914\n",
      "  (1, 195)\t0.6208220332311766\n",
      "  (1, 196)\t0.8789641237191613\n",
      "  (1, 197)\t0.033948880018679795\n",
      "  (1, 198)\t0.6000751027649059\n",
      "  (1, 199)\t0.6002923631927539\n",
      "  (2, 2)\t0.4974181854676113\n",
      "  (3, 3)\t0.1704764060014874\n",
      "  (4, 4)\t0.9525566593422872\n",
      "  (5, 5)\t0.9910408787296867\n",
      "  (6, 6)\t0.8262634834886817\n",
      "  (7, 7)\t0.07814360665547548\n",
      "  (8, 8)\t0.43647627729722593\n",
      "  (9, 9)\t0.0002521254664116235\n",
      "  (10, 10)\t0.9978698517447874\n",
      "  (11, 11)\t0.11555037796944478\n",
      "  (12, 12)\t0.8851979383821718\n",
      "  (13, 13)\t0.26283322759235317\n",
      "  (14, 14)\t0.32357606387005367\n",
      "  (15, 15)\t0.7355607913820913\n",
      "  (16, 16)\t0.8732949579730984\n",
      "  (17, 17)\t0.9264030207357133\n",
      "  (18, 18)\t0.3403052111591245\n",
      "  (19, 19)\t0.8656244560586057\n",
      "  (20, 20)\t0.7678766056411326\n",
      "  (21, 21)\t0.38733774365442863\n",
      "  (22, 22)\t0.5883781873685577\n",
      "  (23, 23)\t0.36843930647165957\n",
      "  (24, 24)\t0.7100376663948883\n",
      "  (25, 25)\t0.6634254527633862\n",
      "  (26, 26)\t0.4308597963698443\n",
      "  (27, 27)\t0.9064165776605785\n",
      "  (28, 28)\t0.8637051482637733\n",
      "  (29, 29)\t0.37535287130129835\n",
      "  (30, 30)\t0.696370626757457\n",
      "  (31, 31)\t0.017113180045321252\n",
      "  (32, 32)\t0.18734043562999714\n",
      "  (33, 33)\t0.696833020468221\n",
      "  (34, 34)\t0.0775137003290497\n",
      "  (35, 35)\t0.3662444350115778\n",
      "  (36, 36)\t0.9887632208317572\n",
      "  (37, 37)\t0.3335204072144269\n",
      "  (38, 38)\t0.6565152972098682\n",
      "  (39, 39)\t0.6761928877721943\n",
      "  (40, 40)\t0.21970106526545452\n",
      "  (41, 41)\t0.18700724151058012\n",
      "  (42, 42)\t0.10838147740836057\n",
      "  (43, 43)\t0.6511067368222908\n",
      "  (44, 44)\t0.83284616433914\n",
      "  (45, 45)\t0.836462760185454\n",
      "  (46, 46)\t0.8869191616991335\n",
      "  (47, 47)\t0.5501202795394782\n",
      "  (48, 48)\t0.9203831091979834\n",
      "  (49, 49)\t0.4191449163767509\n",
      "  (50, 50)\t0.5090528166006028\n",
      "  (51, 51)\t0.824699336979698\n",
      "  (52, 52)\t0.5362342453793256\n",
      "  (53, 53)\t0.5674912029543014\n",
      "  (54, 54)\t0.8393583222112638\n",
      "  (55, 55)\t0.9507183053982519\n",
      "  (56, 56)\t0.7804036471867803\n",
      "  (57, 57)\t0.8146617724808768\n",
      "  (58, 58)\t0.25980040495012\n",
      "  (59, 59)\t0.06841050701743467\n",
      "  (60, 60)\t0.24127460589100513\n",
      "  (61, 61)\t0.4868788091851034\n",
      "  (62, 62)\t0.9562700275831907\n",
      "  (63, 63)\t0.9475239509330102\n",
      "  (64, 64)\t0.6200223959000521\n",
      "  (65, 65)\t0.8099683296973474\n",
      "  (66, 66)\t0.06399107264151382\n",
      "  (67, 67)\t0.19754136375484044\n",
      "  (68, 68)\t0.8098001736151578\n",
      "  (69, 69)\t0.10185665054215354\n",
      "  (70, 70)\t0.753499374759557\n",
      "  (71, 71)\t0.24260243861490083\n",
      "  (72, 72)\t0.9758903519253079\n",
      "  (73, 73)\t0.16842466135290723\n",
      "  (74, 74)\t0.5076262784454888\n",
      "  (75, 75)\t0.0844210991080494\n",
      "  (76, 76)\t0.4300533097404148\n",
      "  (77, 77)\t0.6791177903841451\n",
      "  (78, 78)\t0.3506481025119542\n",
      "  (79, 79)\t0.6981045631466432\n",
      "  (80, 80)\t0.4306195614154972\n",
      "  (81, 81)\t0.3600872242228492\n",
      "  (82, 82)\t0.4094527072029662\n",
      "  (83, 83)\t0.9579941448604372\n",
      "  (84, 84)\t0.41155632754822813\n",
      "  (85, 85)\t0.9443596569851421\n",
      "  (86, 86)\t0.6900805648417015\n",
      "  (87, 87)\t0.7243968420882269\n",
      "  (88, 88)\t0.9807300321499968\n",
      "  (89, 89)\t0.05461609354499608\n",
      "  (90, 90)\t0.7211391591328523\n",
      "  (91, 91)\t0.47462032771788953\n",
      "  (92, 92)\t0.4397668113235097\n",
      "  (93, 93)\t0.4776861074150044\n",
      "  (94, 94)\t0.9808067894915091\n",
      "  (95, 95)\t0.23649265634893124\n",
      "  (96, 96)\t0.049263869356164\n",
      "  (97, 97)\t0.19394681001520775\n",
      "  (98, 98)\t0.05096900199985521\n",
      "  (99, 99)\t0.22154139364734948\n",
      "  (100, 100)\t0.14205358606955376\n",
      "  (101, 101)\t0.8485067658925336\n",
      "  (102, 102)\t0.8041549803279602\n",
      "  (103, 103)\t0.25739607388803465\n",
      "  (104, 104)\t0.01941236889954212\n",
      "  (105, 105)\t0.30096796270800874\n",
      "  (106, 106)\t0.18753274947339482\n",
      "  (107, 107)\t0.44817886685416364\n",
      "  (108, 108)\t0.2870295183245286\n",
      "  (109, 109)\t0.9590261204610689\n",
      "  (110, 110)\t0.7626703271067042\n",
      "  (111, 111)\t0.037479202305885306\n",
      "  (112, 112)\t0.5355537334747729\n",
      "  (113, 113)\t0.25883068726970715\n",
      "  (114, 114)\t0.25424269136748023\n",
      "  (115, 115)\t0.97654715110293\n",
      "  (116, 116)\t0.6390426472680111\n",
      "  (117, 117)\t0.8146794740996124\n",
      "  (118, 118)\t0.21785735440827148\n",
      "  (119, 119)\t0.9983557921516414\n",
      "  (120, 120)\t0.31944571391352017\n",
      "  (121, 121)\t0.637332179696648\n",
      "  (122, 122)\t0.7440062918465673\n",
      "  (123, 123)\t0.3453501640808554\n",
      "  (124, 124)\t0.06965326650583692\n",
      "  (125, 125)\t0.7778606146177327\n",
      "  (126, 126)\t0.7252435224312663\n",
      "  (127, 127)\t0.892770218917865\n",
      "  (128, 128)\t0.8787079541518348\n",
      "  (129, 129)\t0.6458170716173618\n",
      "  (130, 130)\t0.6328644482378217\n",
      "  (131, 131)\t0.584655249006948\n",
      "  (132, 132)\t0.6766455219739441\n",
      "  (133, 133)\t0.26840085579384476\n",
      "  (134, 134)\t0.8255866469223583\n",
      "  (135, 135)\t0.8909704110987916\n",
      "  (136, 136)\t0.5226620278107181\n",
      "  (137, 137)\t0.7104340867542407\n",
      "  (138, 138)\t0.06381191455387636\n",
      "  (139, 139)\t0.8860938052524\n",
      "  (140, 140)\t0.591470316826958\n",
      "  (141, 141)\t0.8914803924628254\n",
      "  (142, 142)\t0.46698636355458256\n",
      "  (143, 143)\t0.5947496961317096\n",
      "  (144, 144)\t0.028901700006992548\n",
      "  (145, 145)\t0.01573022524919565\n",
      "  (146, 146)\t0.4473092698992778\n",
      "  (147, 147)\t0.3661094194679331\n",
      "  (148, 148)\t0.5414087894742667\n",
      "  (149, 149)\t0.25641007399603244\n",
      "  (150, 150)\t0.7082708147367891\n",
      "  (151, 151)\t0.8859952922227643\n",
      "  (152, 152)\t0.6966864489947192\n",
      "  (153, 153)\t0.9291117651056215\n",
      "  (154, 154)\t0.1410855032509396\n",
      "  (155, 155)\t0.07761486468049561\n",
      "  (156, 156)\t0.18731739497521482\n",
      "  (157, 157)\t0.0941586324621152\n",
      "  (158, 158)\t0.6480125989004873\n",
      "  (159, 159)\t0.8704528656309337\n",
      "  (160, 160)\t0.3761934953660192\n",
      "  (161, 161)\t0.7990076167949882\n",
      "  (162, 162)\t0.8646796541057654\n",
      "  (163, 163)\t0.30483202201751713\n",
      "  (164, 164)\t0.9394862404062212\n",
      "  (165, 165)\t0.8097777074651247\n",
      "  (166, 166)\t0.6800340997531514\n",
      "  (167, 167)\t0.45372908197956396\n",
      "  (168, 168)\t0.8075562725000999\n",
      "  (169, 169)\t0.17271211625392668\n",
      "  (170, 170)\t0.9245500226483969\n",
      "  (171, 171)\t0.06545389174426153\n",
      "  (172, 172)\t0.47510785161071356\n",
      "  (173, 173)\t0.7677766544829701\n",
      "  (174, 174)\t0.01772150139887796\n",
      "  (175, 175)\t0.8668984041287436\n",
      "  (176, 176)\t0.44205364071032904\n",
      "  (177, 177)\t0.8987427479679385\n",
      "  (178, 178)\t0.39445983183253386\n",
      "  (179, 179)\t0.45634378605297987\n",
      "  (180, 180)\t0.03537042610038932\n",
      "  (181, 181)\t0.8548241698263392\n",
      "  (182, 182)\t0.8782479790630884\n",
      "  (183, 183)\t0.9773076654471481\n",
      "  (184, 184)\t0.11485770617397328\n",
      "  (185, 185)\t0.011421383281512765\n",
      "  (186, 186)\t0.7010458864190103\n",
      "  (187, 187)\t0.546166379763586\n",
      "  (188, 188)\t0.4268996170136642\n",
      "  (189, 189)\t0.5778591776164184\n",
      "  (190, 190)\t0.7754259294111506\n",
      "  (191, 191)\t0.8325770758102838\n",
      "  (192, 192)\t0.9308496239419083\n",
      "  (193, 193)\t0.8071364117828577\n",
      "  (194, 194)\t0.022519660581649448\n",
      "  (195, 195)\t0.8253815671387144\n",
      "  (196, 196)\t0.24231215059061295\n",
      "  (197, 197)\t0.05704447520235856\n",
      "  (198, 198)\t0.7851374061533636\n",
      "  (199, 199)\t0.06265429224177976\n",
      "  (200, 200)\t0.6615372380139041\n",
      "  (201, 201)\t0.06946033558264542\n",
      "  (202, 202)\t0.9474039225283334\n",
      "  (203, 203)\t0.39022652085875165\n",
      "  (204, 204)\t0.11521591386562957\n",
      "  (205, 205)\t0.31497574762515845\n",
      "  (206, 206)\t0.30432912344673\n",
      "  (207, 207)\t0.45555622000003815\n",
      "  (208, 208)\t0.6319936272039379\n",
      "  (209, 209)\t0.5703775058457329\n",
      "  (210, 210)\t0.40855502504211594\n",
      "  (211, 211)\t0.24049833260497377\n",
      "  (212, 212)\t0.5261382313872492\n",
      "  (213, 213)\t0.39060113920787365\n",
      "  (214, 214)\t0.7308684998061143\n",
      "  (215, 215)\t0.27630191335810106\n",
      "  (216, 216)\t0.4096938589204878\n",
      "  (217, 217)\t0.4122952159908275\n",
      "  (218, 218)\t0.4257677543550239\n",
      "  (219, 219)\t0.5989321365454665\n",
      "  (220, 220)\t0.9495733197793541\n",
      "  (221, 221)\t0.20013910180357053\n",
      "  (222, 222)\t0.3297352527834828\n",
      "  (223, 223)\t0.46291463436909996\n",
      "  (224, 224)\t0.4480832596885018\n",
      "  (225, 225)\t0.5779734374553819\n",
      "  (226, 226)\t0.3996088585097535\n",
      "  (227, 227)\t0.7190994419594704\n",
      "  (228, 228)\t0.37997244680755227\n",
      "  (229, 229)\t0.16167120062673723\n",
      "  (230, 230)\t0.26958724691833347\n",
      "  (231, 231)\t0.08127522017570521\n",
      "  (232, 232)\t0.3012618069724985\n",
      "  (233, 233)\t0.8581731016348805\n",
      "  (234, 234)\t0.3516480734616927\n",
      "  (235, 235)\t0.8319277539254268\n",
      "  (236, 236)\t0.016218331761837845\n",
      "  (237, 237)\t0.4624968602479721\n",
      "  (238, 238)\t0.9724307015644797\n",
      "  (239, 239)\t0.4597600321015918\n",
      "  (240, 240)\t0.8937722380606525\n",
      "  (241, 241)\t0.6916441023967572\n",
      "  (242, 242)\t0.6810848625045383\n",
      "  (243, 243)\t0.7883903793682016\n",
      "  (244, 244)\t0.04827589874847893\n",
      "  (245, 245)\t0.831166044959702\n",
      "  (246, 246)\t0.20072855182353933\n",
      "  (247, 247)\t0.8244370193973861\n",
      "  (248, 248)\t0.3546210530257632\n",
      "  (249, 249)\t0.9680058274180018\n",
      "  (250, 250)\t0.35033908188000695\n",
      "  (251, 251)\t0.33447981647677616\n",
      "  (252, 252)\t0.9057449346354282\n",
      "  (253, 253)\t0.21483228697788403\n",
      "  (254, 254)\t0.6291025941477929\n",
      "  (255, 255)\t0.6717418197404859\n",
      "  (256, 256)\t0.7413557501766946\n",
      "  (257, 257)\t0.30198536823970323\n",
      "  (258, 258)\t0.3375175131642618\n",
      "  (259, 259)\t0.5986746880828762\n",
      "  (260, 260)\t0.36657372330923366\n",
      "  (261, 261)\t0.9111919057320627\n",
      "  (262, 262)\t0.8515273918240002\n",
      "  (263, 263)\t0.19103514494001528\n",
      "  (264, 264)\t0.6246309245891711\n",
      "  (265, 265)\t0.8895682333941093\n",
      "  (266, 266)\t0.0720613139138454\n",
      "  (267, 267)\t0.05870276588314072\n",
      "  (268, 268)\t0.10829698187553216\n",
      "  (269, 269)\t0.4012255962202005\n",
      "  (270, 270)\t0.28600526972352336\n",
      "  (271, 271)\t0.2623491263322254\n",
      "  (272, 272)\t0.2734008444607754\n",
      "  (273, 273)\t0.4970961199887125\n",
      "  (274, 274)\t0.4808009167987993\n",
      "  (275, 275)\t0.5054815555464905\n",
      "  (276, 276)\t0.6224379504575263\n",
      "  (277, 277)\t0.9018378383772776\n",
      "  (278, 278)\t0.9359110362610583\n",
      "  (279, 279)\t0.8997959901008392\n",
      "  (280, 280)\t0.8164484053550907\n",
      "  (281, 281)\t0.9395682501553314\n",
      "  (282, 282)\t0.534482781846706\n",
      "  (283, 283)\t0.4606891332063954\n",
      "  (284, 284)\t0.5225682287052908\n",
      "  (285, 285)\t0.19522844949645202\n",
      "  (286, 286)\t0.7523751356485493\n",
      "  (287, 287)\t0.8687045154793136\n",
      "  (288, 288)\t0.9823667563415182\n",
      "  (289, 289)\t0.1544105839705774\n",
      "  (290, 290)\t0.5910818325645704\n",
      "  (291, 291)\t0.9304320710192321\n",
      "  (292, 292)\t0.02276015831445155\n",
      "  (293, 293)\t0.16713722142372078\n",
      "  (294, 294)\t0.11801451704417298\n",
      "  (295, 295)\t0.09019654615481087\n",
      "  (296, 296)\t0.669219302601356\n",
      "  (297, 297)\t0.6182469865010248\n",
      "  (298, 298)\t0.14939811799181058\n",
      "  (299, 299)\t0.9114024834951412\n",
      "  (300, 300)\t0.9960969620507689\n",
      "  (301, 301)\t0.6557953035712418\n",
      "  (302, 302)\t0.8186721353006534\n",
      "  (303, 303)\t0.00420841473184741\n",
      "  (304, 304)\t0.09782145260941388\n",
      "  (305, 305)\t0.2731471522568022\n",
      "  (306, 306)\t0.7937204499514315\n",
      "  (307, 307)\t0.03948972936824591\n",
      "  (308, 308)\t0.24895843905971715\n",
      "  (309, 309)\t0.07022116325991878\n",
      "  (310, 310)\t0.9069185276476917\n",
      "  (311, 311)\t0.25581474483758504\n",
      "  (312, 312)\t0.35568662111462546\n",
      "  (313, 313)\t0.789283785051422\n",
      "  (314, 314)\t0.5776350155206772\n",
      "  (315, 315)\t0.3484565298442137\n",
      "  (316, 316)\t0.6870547977200593\n",
      "  (317, 317)\t0.5700558124865349\n",
      "  (318, 318)\t0.37793989255266724\n",
      "  (319, 319)\t0.7555285431524799\n",
      "  (320, 320)\t0.04066706225029926\n",
      "  (321, 321)\t0.3534115117224754\n",
      "  (322, 322)\t0.7098976854183273\n",
      "  (323, 323)\t0.23484498416511013\n",
      "  (324, 324)\t0.1622526745118672\n",
      "  (325, 325)\t0.8780586587519901\n",
      "  (326, 326)\t0.15760270694442868\n",
      "  (327, 327)\t0.3217889588234232\n",
      "  (328, 328)\t0.7067137372922546\n",
      "  (329, 329)\t0.359325203713162\n",
      "  (330, 330)\t0.7897521206372466\n",
      "  (331, 331)\t0.19902854921055602\n",
      "  (332, 332)\t0.9057596189297613\n",
      "  (333, 333)\t0.8154228171526666\n",
      "  (334, 334)\t0.8766508901046106\n",
      "  (335, 335)\t0.780703562036833\n",
      "  (336, 336)\t0.010606865485641381\n",
      "  (337, 337)\t0.5325650625217282\n",
      "  (338, 338)\t0.6243851865701058\n",
      "  (339, 339)\t0.0007707310748019669\n",
      "  (340, 340)\t0.09390375226978587\n",
      "  (341, 341)\t0.7076207468142569\n",
      "  (342, 342)\t0.34387254293082303\n",
      "  (343, 343)\t0.31058554277855566\n",
      "  (344, 344)\t0.7409590914376756\n",
      "  (345, 345)\t0.3677695195203511\n",
      "  (346, 346)\t0.25218098053072413\n",
      "  (347, 347)\t0.6451141368296452\n",
      "  (348, 348)\t0.8957797418499658\n",
      "  (349, 349)\t0.8301739908792702\n",
      "  (350, 350)\t0.5281390391703363\n",
      "  (351, 351)\t0.6041517037346003\n",
      "  (352, 352)\t0.10106005036348831\n",
      "  (353, 353)\t0.4321596829036587\n",
      "  (354, 354)\t0.8628526296467559\n",
      "  (355, 355)\t0.13301717139952807\n",
      "  (356, 356)\t0.23579750254812015\n",
      "  (357, 357)\t0.031247627670573985\n",
      "  (358, 358)\t0.4626245761574752\n",
      "  (359, 359)\t0.1995530358988058\n",
      "  (360, 360)\t0.9393574190148867\n",
      "  (361, 361)\t0.5524923903100724\n",
      "  (362, 362)\t0.9646631997680131\n",
      "  (363, 363)\t0.24148498096075977\n",
      "  (364, 364)\t0.03157664107152214\n",
      "  (365, 365)\t0.3626367872765358\n",
      "  (366, 366)\t0.6615766263052838\n",
      "  (367, 367)\t0.7198413568779566\n",
      "  (368, 368)\t0.30113469488920674\n",
      "  (369, 369)\t0.18123044938968547\n",
      "  (370, 370)\t0.6792584966284733\n",
      "  (371, 371)\t0.23647717565722415\n",
      "  (372, 372)\t0.23524131348360555\n",
      "  (373, 373)\t0.2660319546412889\n",
      "  (374, 374)\t0.21349667688615281\n",
      "  (375, 375)\t0.07380013385480522\n",
      "  (376, 376)\t0.2207267304424445\n",
      "  (377, 377)\t0.789446880697928\n",
      "  (378, 378)\t0.8221131365143359\n",
      "  (379, 379)\t0.3315083395190864\n",
      "  (380, 380)\t0.29372806959768294\n",
      "  (381, 381)\t0.6882303453142555\n",
      "  (382, 382)\t0.1558001584174904\n",
      "  (383, 383)\t0.3325663589980681\n",
      "  (384, 384)\t0.9978442473959267\n",
      "  (385, 385)\t0.5846229267365378\n",
      "  (386, 386)\t0.022930782164367836\n",
      "  (387, 387)\t0.5238922607766162\n",
      "  (388, 388)\t0.9366335546239596\n",
      "  (389, 389)\t0.9809445667197995\n",
      "  (390, 390)\t0.566049258118462\n",
      "  (391, 391)\t0.8717015161589157\n",
      "  (392, 392)\t0.7072341612061284\n",
      "  (393, 393)\t0.32418117090674714\n",
      "  (394, 394)\t0.4102145732162573\n",
      "  (395, 395)\t0.31433067563243233\n",
      "  (396, 396)\t0.601854781499012\n",
      "  (397, 397)\t0.7313578238600225\n",
      "  (398, 398)\t0.1889350827271684\n",
      "  (399, 399)\t0.41693907688323806\n",
      "  (400, 400)\t0.7380794433403385\n",
      "  (401, 401)\t0.04826054528617307\n",
      "  (402, 402)\t0.29163373709509066\n",
      "  (403, 403)\t0.8522506749892146\n",
      "  (404, 404)\t0.8486505301436413\n",
      "  (405, 405)\t0.43325241509316814\n",
      "  (406, 406)\t0.22650852761574447\n",
      "  (407, 407)\t0.8660253671449802\n",
      "  (408, 408)\t0.29491621573667903\n",
      "  (409, 409)\t0.31152210706861816\n",
      "  (410, 410)\t0.07451474922760593\n",
      "  (411, 411)\t0.16753312342974513\n",
      "  (412, 412)\t0.763171742851703\n",
      "  (413, 413)\t0.046681826265546955\n",
      "  (414, 414)\t0.2267416275720705\n",
      "  (415, 415)\t0.15527154576835733\n",
      "  (416, 416)\t0.9084543914987386\n",
      "  (417, 417)\t0.494220352537864\n",
      "  (418, 418)\t0.2523865752086284\n",
      "  (419, 419)\t0.013908467128530333\n",
      "  (420, 420)\t0.6296761700064318\n",
      "  (421, 421)\t0.17814931075969076\n",
      "  (422, 422)\t0.12057279248406538\n",
      "  (423, 423)\t0.9240020813771472\n",
      "  (424, 424)\t0.26002849920295923\n",
      "  (425, 425)\t0.2766370075176241\n",
      "  (426, 426)\t0.02395284952479171\n",
      "  (427, 427)\t0.0026002923640350284\n",
      "  (428, 428)\t0.5351720387821648\n",
      "  (429, 429)\t0.5067706575721904\n",
      "  (430, 430)\t0.2995839085825085\n",
      "  (431, 431)\t0.4728567568845986\n",
      "  (432, 432)\t0.9561563917781939\n",
      "  (433, 433)\t0.9182555768774212\n",
      "  (434, 434)\t0.527060823382643\n",
      "  (435, 435)\t0.44799572444933045\n",
      "  (436, 436)\t0.4965304884144657\n",
      "  (437, 437)\t0.8367606061145832\n",
      "  (438, 438)\t0.8517761800782523\n",
      "  (439, 439)\t0.7989640114365768\n",
      "  (440, 440)\t0.7283629753724882\n",
      "  (441, 441)\t0.4990457514253498\n",
      "  (442, 442)\t0.1637372746881205\n",
      "  (443, 443)\t0.1562080516019877\n",
      "  (444, 444)\t0.5069795421590351\n",
      "  (445, 445)\t0.9673733398895618\n",
      "  (446, 446)\t0.3413676684578024\n",
      "  (447, 447)\t0.4147695576445687\n",
      "  (448, 448)\t0.2675086869558978\n",
      "  (449, 449)\t0.3165504799435682\n",
      "  (450, 450)\t0.4314511357522468\n",
      "  (451, 451)\t0.33939368205471987\n",
      "  (452, 452)\t0.03460415099519665\n",
      "  (453, 453)\t0.6969375339466316\n",
      "  (454, 454)\t0.9017333231879845\n",
      "  (455, 455)\t0.7222325053040162\n",
      "  (456, 456)\t0.19937314200786316\n",
      "  (457, 457)\t0.1255292164562195\n",
      "  (458, 458)\t0.3811870409359539\n",
      "  (459, 459)\t0.6866876616212754\n",
      "  (460, 460)\t0.6778177307123258\n",
      "  (461, 461)\t0.8658764285259822\n",
      "  (462, 462)\t0.48778030740264877\n",
      "  (463, 463)\t0.5481522420926266\n",
      "  (464, 464)\t0.24178469995149265\n",
      "  (465, 465)\t0.7814733173207615\n",
      "  (466, 466)\t0.06477150890271288\n",
      "  (467, 467)\t0.9113929612993195\n",
      "  (468, 468)\t0.15780135467109335\n",
      "  (469, 469)\t0.4076159148218056\n",
      "  (470, 470)\t0.6421410230361969\n",
      "  (471, 471)\t0.48786368730076857\n",
      "  (472, 472)\t0.8045449478780471\n",
      "  (473, 473)\t0.52854380428895\n",
      "  (474, 474)\t0.010306213735019942\n",
      "  (475, 475)\t0.5307993310298537\n",
      "  (476, 476)\t0.6803540397233905\n",
      "  (477, 477)\t0.8101949167581076\n",
      "  (478, 478)\t0.37329383292894924\n",
      "  (479, 479)\t0.8421688021452837\n",
      "  (480, 480)\t0.42541143536545123\n",
      "  (481, 481)\t0.24314609423464162\n",
      "  (482, 482)\t0.8724534459969493\n",
      "  (483, 483)\t0.5159284363208024\n",
      "  (484, 484)\t0.03734612226050171\n",
      "  (485, 485)\t0.04739370432520851\n",
      "  (486, 486)\t0.48011005192674716\n",
      "  (487, 487)\t0.19228181404921063\n",
      "  (488, 488)\t0.1110190113792835\n",
      "  (489, 489)\t0.8894084406362901\n",
      "  (490, 490)\t0.8273440071294418\n",
      "  (491, 491)\t0.689621839247968\n",
      "  (492, 492)\t0.4178393897775642\n",
      "  (493, 493)\t0.7567602772242564\n",
      "  (494, 494)\t0.16789326811258498\n",
      "  (495, 495)\t0.2489273778548211\n",
      "  (496, 496)\t0.5110668274869784\n",
      "  (497, 497)\t0.26882311623482336\n",
      "  (498, 498)\t0.6154613477635457\n",
      "  (499, 499)\t0.9519830102285012\n",
      "  (500, 500)\t0.2029080078776493\n",
      "  (501, 501)\t0.4745546536709616\n",
      "  (502, 502)\t0.9754282165512097\n",
      "  (503, 503)\t0.4384005993186436\n",
      "  (504, 504)\t0.2145858770297535\n",
      "  (505, 505)\t0.417464457564212\n",
      "  (506, 506)\t0.18267740930712884\n",
      "  (507, 507)\t0.7667702257727016\n",
      "  (508, 508)\t0.3034283177404601\n",
      "  (509, 509)\t0.6576179412117867\n",
      "  (510, 510)\t0.8653510836683872\n",
      "  (511, 511)\t0.566787152240206\n",
      "  (512, 512)\t0.05496114622087944\n",
      "  (513, 513)\t0.04537915354905975\n",
      "  (514, 514)\t0.1595635171636387\n",
      "  (515, 515)\t0.17907938443878169\n",
      "  (516, 516)\t0.8110332202524019\n",
      "  (517, 517)\t0.5221128059210559\n",
      "  (518, 518)\t0.16180061564014225\n",
      "  (519, 519)\t0.8448381694366577\n",
      "  (520, 520)\t0.3729668877391271\n",
      "  (521, 521)\t0.7288359831831825\n",
      "  (522, 522)\t0.11057704408883617\n",
      "  (523, 523)\t0.602513815011614\n",
      "  (524, 524)\t0.9869273750468945\n",
      "  (525, 525)\t0.6580897172261617\n",
      "  (526, 526)\t0.02498382926862386\n",
      "  (527, 527)\t0.3312575771378278\n",
      "  (528, 528)\t0.42906301156010485\n",
      "  (529, 529)\t0.4746293752273302\n",
      "  (530, 530)\t0.4080778984404472\n",
      "  (531, 531)\t0.37291978272956605\n",
      "  (532, 532)\t0.7822256940655073\n",
      "  (533, 533)\t0.8783051983579391\n",
      "  (534, 534)\t0.795187093328816\n",
      "  (535, 535)\t0.8545587619722227\n",
      "  (536, 536)\t0.2439481450070402\n",
      "  (537, 537)\t0.05113964178283048\n",
      "  (538, 538)\t0.8797442864840692\n",
      "  (539, 539)\t0.6217492839717043\n",
      "  (540, 540)\t0.2726386360799212\n",
      "  (541, 541)\t0.3410802623393333\n",
      "  (542, 542)\t0.592215498114718\n",
      "  (543, 543)\t0.18571299804029673\n",
      "  (544, 544)\t0.2844311230634474\n",
      "  (545, 545)\t0.02592098319236502\n",
      "  (546, 546)\t0.46697090392608875\n",
      "  (547, 547)\t0.3289725969236391\n",
      "  (548, 548)\t0.04570031605805902\n",
      "  (549, 549)\t0.3850167921192049\n",
      "  (550, 550)\t0.7432787662779005\n",
      "  (551, 551)\t0.6912406775112555\n",
      "  (552, 552)\t0.07666398040113975\n",
      "  (553, 553)\t0.2719732595644626\n",
      "  (554, 554)\t0.44408722297919867\n",
      "  (555, 555)\t0.528515235135245\n",
      "  (556, 556)\t0.9578743589824686\n",
      "  (557, 557)\t0.8407729400113352\n",
      "  (558, 558)\t0.9304718347530668\n",
      "  (559, 559)\t0.8546623259508139\n",
      "  (560, 560)\t0.4383853198623291\n",
      "  (561, 561)\t0.5495397431031114\n",
      "  (562, 562)\t0.7518576809109146\n",
      "  (563, 563)\t0.05769595451540932\n",
      "  (564, 564)\t0.6829701135805963\n",
      "  (565, 565)\t0.14447599879812056\n",
      "  (566, 566)\t0.936217608047136\n",
      "  (567, 567)\t0.029949395826131986\n",
      "  (568, 568)\t0.04573713062067808\n",
      "  (569, 569)\t0.4973208161087981\n",
      "  (570, 570)\t0.9897962950346666\n",
      "  (571, 571)\t0.6786052861046805\n",
      "  (572, 572)\t0.8620409030570976\n",
      "  (573, 573)\t0.7753138968806059\n",
      "  (574, 574)\t0.3835021378052189\n",
      "  (575, 575)\t0.0517151765917655\n",
      "  (576, 576)\t0.26912377275587107\n",
      "  (577, 577)\t0.28761117936848624\n",
      "  (578, 578)\t0.6976701625908092\n",
      "  (579, 579)\t0.5367781811595645\n",
      "  (580, 580)\t0.3200848990979962\n",
      "  (581, 581)\t0.31082911088315024\n",
      "  (582, 582)\t0.2716422678569954\n",
      "  (583, 583)\t0.07993723166732114\n",
      "  (584, 584)\t0.5016994716827591\n",
      "  (585, 585)\t0.4100281475505527\n",
      "  (586, 586)\t0.722365803819617\n",
      "  (587, 587)\t0.13577938582074112\n",
      "  (588, 588)\t0.9181952080911764\n",
      "  (589, 589)\t0.7053159273150947\n",
      "  (590, 590)\t0.6186648617457717\n",
      "  (591, 591)\t0.6803579999076209\n",
      "  (592, 592)\t0.011686941914358595\n",
      "  (593, 593)\t0.776303049176308\n",
      "  (594, 594)\t0.7093195995099925\n",
      "  (595, 595)\t0.601157853953966\n",
      "  (596, 596)\t0.22256737295568008\n",
      "  (597, 597)\t0.12421328711904933\n",
      "  (598, 598)\t0.5450612103270076\n",
      "  (599, 599)\t0.9120333869262794\n",
      "  (600, 600)\t0.5294760971368234\n",
      "  (601, 601)\t0.004769066751478035\n",
      "  (602, 602)\t0.6797487529205363\n",
      "  (603, 603)\t0.706446673038773\n",
      "  (604, 604)\t0.827324055561089\n",
      "  (605, 605)\t0.30069039207630543\n",
      "  (606, 606)\t0.9067697195387204\n",
      "  (607, 607)\t0.06135413217019747\n",
      "  (608, 608)\t0.6500770329043964\n",
      "  (609, 609)\t0.5114887892282703\n",
      "  (610, 610)\t0.5461485080092318\n",
      "  (611, 611)\t0.2123947933322381\n",
      "  (612, 612)\t0.17037957263244896\n",
      "  (613, 613)\t0.739451589899487\n",
      "  (614, 614)\t0.8306402026240457\n",
      "  (615, 615)\t0.2379409883256577\n",
      "  (616, 616)\t0.9374297777196836\n",
      "  (617, 617)\t0.4016653893418004\n",
      "  (618, 618)\t0.5759513762516824\n",
      "  (619, 619)\t0.5588295371123853\n",
      "  (620, 620)\t0.18478365914898842\n",
      "  (621, 621)\t0.5397728131088609\n",
      "  (622, 622)\t0.10659888168349274\n",
      "  (623, 623)\t0.7211736694511129\n",
      "  (624, 624)\t0.17792225275404316\n",
      "  (625, 625)\t0.2859520320473167\n",
      "  (626, 626)\t0.5544076748652881\n",
      "  (627, 627)\t0.08296375649999865\n",
      "  (628, 628)\t0.0469049730799187\n",
      "  (629, 629)\t0.9356101414596475\n",
      "  (630, 630)\t0.920552949754738\n",
      "  (631, 631)\t0.1664541466225562\n",
      "  (632, 632)\t0.4936528610595893\n",
      "  (633, 633)\t0.7930685773022441\n",
      "  (634, 634)\t0.9381280855572794\n",
      "  (635, 635)\t0.7810867438183471\n",
      "  (636, 636)\t0.23860161506796085\n",
      "  (637, 637)\t0.7650815724774975\n",
      "  (638, 638)\t0.09341133969210613\n",
      "  (639, 639)\t0.2503482070710502\n",
      "  (640, 640)\t0.712864649804628\n",
      "  (641, 641)\t0.08283218264230219\n",
      "  (642, 642)\t0.4013252315206052\n",
      "  (643, 643)\t0.4227709532345366\n",
      "  (644, 644)\t0.7022578646853724\n",
      "  (645, 645)\t0.2228979879014008\n",
      "  (646, 646)\t0.23220939840542099\n",
      "  (647, 647)\t0.06796751062305162\n",
      "  (648, 648)\t0.4878424207239277\n",
      "  (649, 649)\t0.027196962306852646\n",
      "  (650, 650)\t0.42126377220959677\n",
      "  (651, 651)\t0.8073715724638765\n",
      "  (652, 652)\t0.7798094147010313\n",
      "  (653, 653)\t0.4306831420584367\n",
      "  (654, 654)\t0.29433153287880376\n",
      "  (655, 655)\t0.09560094890011317\n",
      "  (656, 656)\t0.5235909179711642\n",
      "  (657, 657)\t0.8336836633776722\n",
      "  (658, 658)\t0.743183271120419\n",
      "  (659, 659)\t0.28285538109980746\n",
      "  (660, 660)\t0.8296846818253779\n",
      "  (661, 661)\t0.010538082000889348\n",
      "  (662, 662)\t0.23304980220473226\n",
      "  (663, 663)\t0.30231910493524417\n",
      "  (664, 664)\t0.9720651728952445\n",
      "  (665, 665)\t0.6162985619174387\n",
      "  (666, 666)\t0.6328294210394517\n",
      "  (667, 667)\t0.24446272924102685\n",
      "  (668, 668)\t0.2847285681318179\n",
      "  (669, 669)\t0.09664915416253239\n",
      "  (670, 670)\t0.3008760975542184\n",
      "  (671, 671)\t0.981996759479942\n",
      "  (672, 672)\t0.8923585295323692\n",
      "  (673, 673)\t0.39270129268954257\n",
      "  (674, 674)\t0.6159154735901551\n",
      "  (675, 675)\t0.6104193170960052\n",
      "  (676, 676)\t0.4049399313277263\n",
      "  (677, 677)\t0.9911000163944211\n",
      "  (678, 678)\t0.9573550755687957\n",
      "  (679, 679)\t0.8809473706886961\n",
      "  (680, 680)\t0.9157724175579722\n",
      "  (681, 681)\t0.6720875252393601\n",
      "  (682, 682)\t0.4308174327401222\n",
      "  (683, 683)\t0.18889369889398056\n",
      "  (684, 684)\t0.7834334415787672\n",
      "  (685, 685)\t0.13595900886257806\n",
      "  (686, 686)\t0.7445357074677469\n",
      "  (687, 687)\t0.1631116790609738\n",
      "  (688, 688)\t0.3788025520691033\n",
      "  (689, 689)\t0.9787926977445705\n",
      "  (690, 690)\t0.7463248501553628\n",
      "  (691, 691)\t0.6203214437298079\n",
      "  (692, 692)\t0.18068874881455887\n",
      "  (693, 693)\t0.2301880266643629\n",
      "  (694, 694)\t0.12016220950092726\n",
      "  (695, 695)\t0.1963888976144661\n",
      "  (696, 696)\t0.16858631897171727\n",
      "  (697, 697)\t0.5908345376829607\n",
      "  (698, 698)\t0.14479112583858533\n",
      "  (699, 699)\t0.28470857593898136\n",
      "  (700, 700)\t0.20343234479537164\n",
      "  (701, 701)\t0.25169591917627476\n",
      "  (702, 702)\t0.7915386434005983\n",
      "  (703, 703)\t0.35249011230757143\n",
      "  (704, 704)\t0.9088598045919605\n",
      "  (705, 705)\t0.2639937253099778\n",
      "  (706, 706)\t0.9566235032854988\n",
      "  (707, 707)\t0.38439391089513497\n",
      "  (708, 708)\t0.7829293571579046\n",
      "  (709, 709)\t0.8171897800690582\n",
      "  (710, 710)\t0.6209588004753738\n",
      "  (711, 711)\t0.7484275979093067\n",
      "  (712, 712)\t0.8448450639194109\n",
      "  (713, 713)\t0.13696085066838537\n",
      "  (714, 714)\t0.5898892692051297\n",
      "  (715, 715)\t0.4208582840192081\n",
      "  (716, 716)\t0.010869745030697153\n",
      "  (717, 717)\t0.33883221271113706\n",
      "  (718, 718)\t0.059208417084421594\n",
      "  (719, 719)\t0.836552321271669\n",
      "  (720, 720)\t0.35539096386492286\n",
      "  (721, 721)\t0.6256179516673279\n",
      "  (722, 722)\t0.31161940019900336\n",
      "  (723, 723)\t0.3465056232255924\n",
      "  (724, 724)\t0.4583470209047853\n",
      "  (725, 725)\t0.09539299283884328\n",
      "  (726, 726)\t0.20049148991075394\n",
      "  (727, 727)\t0.5170120431520915\n",
      "  (728, 728)\t0.32766260976986195\n",
      "  (729, 729)\t0.0037273237969112083\n",
      "  (730, 730)\t0.8554310625572463\n",
      "  (731, 731)\t0.8976645114071278\n",
      "  (732, 732)\t0.2615053050925723\n",
      "  (733, 733)\t0.25958250958776463\n",
      "  (734, 734)\t0.7206209367149822\n",
      "  (735, 735)\t0.6418925194505428\n",
      "  (736, 736)\t0.29732445757252235\n",
      "  (737, 737)\t0.22372516029408385\n",
      "  (738, 738)\t0.6251994233323815\n",
      "  (739, 739)\t0.18606425402286564\n",
      "  (740, 740)\t0.2740444092983366\n",
      "  (741, 741)\t0.9888052675555871\n",
      "  (742, 742)\t0.918991222438515\n",
      "  (743, 743)\t0.6300851000629007\n",
      "  (744, 744)\t0.4848754471101858\n",
      "  (745, 745)\t0.29419438054815206\n",
      "  (746, 746)\t0.20047537743935018\n",
      "  (747, 747)\t0.9458969151642818\n",
      "  (748, 748)\t0.8553293990771275\n",
      "  (749, 749)\t0.6485115283313938\n",
      "  (750, 750)\t0.7712431004189346\n",
      "  (751, 751)\t0.5787943192912318\n",
      "  (752, 752)\t0.8206571693389019\n",
      "  (753, 753)\t0.25327449084824927\n",
      "  (754, 754)\t0.18906763734237697\n",
      "  (755, 755)\t0.14787250744126113\n",
      "  (756, 756)\t0.6660655689965312\n",
      "  (757, 757)\t0.17520069146539297\n",
      "  (758, 758)\t0.5678084680315465\n",
      "  (759, 759)\t0.3990716716737721\n",
      "  (760, 760)\t0.47540508835874984\n",
      "  (761, 761)\t0.8312035889095674\n",
      "  (762, 762)\t0.5012111359486922\n",
      "  (763, 763)\t0.5801797247210705\n",
      "  (764, 764)\t0.46372172093292274\n",
      "  (765, 765)\t0.8534882193382592\n",
      "  (766, 766)\t0.7422790940765521\n",
      "  (767, 767)\t0.8325732796433408\n",
      "  (768, 768)\t0.8638628227540843\n",
      "  (769, 769)\t0.40039788214492544\n",
      "  (770, 770)\t0.3022803726302278\n",
      "  (771, 771)\t0.4827170606881003\n",
      "  (772, 772)\t0.7991637716869594\n",
      "  (773, 773)\t0.8550646931094744\n",
      "  (774, 774)\t0.29566549611663895\n",
      "  (775, 775)\t0.3348428409775034\n",
      "  (776, 776)\t0.7706998939370019\n",
      "  (777, 777)\t0.5239646998699489\n",
      "  (778, 778)\t0.8649033580750388\n",
      "  (779, 779)\t0.25417112754241267\n",
      "  (780, 780)\t0.049292209705554035\n",
      "  (781, 781)\t0.8585975196904043\n",
      "  (782, 782)\t0.9828248848476671\n",
      "  (783, 783)\t0.3849597264810507\n",
      "  (784, 784)\t0.8918807591020825\n",
      "  (785, 785)\t0.47402881558464793\n",
      "  (786, 786)\t0.11344608477716267\n",
      "  (787, 787)\t0.004396362771648343\n",
      "  (788, 788)\t0.1347615522792931\n",
      "  (789, 789)\t0.42608950151227865\n",
      "  (790, 790)\t0.4959571545460303\n",
      "  (791, 791)\t0.5344536056940398\n",
      "  (792, 792)\t0.9462999233495772\n",
      "  (793, 793)\t0.8937751679074223\n",
      "  (794, 794)\t0.5434510802388541\n",
      "  (795, 795)\t0.8555026250404928\n",
      "  (796, 796)\t0.6334162522149183\n",
      "  (797, 797)\t0.4240216916184364\n",
      "  (798, 798)\t0.20620287844903806\n",
      "  (799, 799)\t0.311952158522126\n",
      "  (800, 800)\t0.33256646188452244\n",
      "  (801, 801)\t0.7852222470498984\n",
      "  (802, 802)\t0.6709249037443804\n",
      "  (803, 803)\t0.05025190691426984\n",
      "  (804, 804)\t0.6047208676950303\n",
      "  (805, 805)\t0.12597693915180885\n",
      "  (806, 806)\t0.05502361530420141\n",
      "  (807, 807)\t0.8472971035851701\n",
      "  (808, 808)\t0.6225573944429312\n",
      "  (809, 809)\t0.4967948799861537\n",
      "  (810, 810)\t0.8974576470820635\n",
      "  (811, 811)\t0.7181239523264055\n",
      "  (812, 812)\t0.3000983523727352\n",
      "  (813, 813)\t0.25368608704771745\n",
      "  (814, 814)\t0.24019424213511276\n",
      "  (815, 815)\t0.4396622849383349\n",
      "  (816, 816)\t0.8269023158802606\n",
      "  (817, 817)\t0.42502726569709603\n",
      "  (818, 818)\t0.9641226988777158\n",
      "  (819, 819)\t0.019584385044879693\n",
      "  (820, 820)\t0.2547184593683235\n",
      "  (821, 821)\t0.9558229300689254\n",
      "  (822, 822)\t0.043019600526128965\n",
      "  (823, 823)\t0.4874853598724055\n",
      "  (824, 824)\t0.408884739492431\n",
      "  (825, 825)\t0.5688763009319467\n",
      "  (826, 826)\t0.9052112309804095\n",
      "  (827, 827)\t0.31856867932651334\n",
      "  (828, 828)\t0.9765962460578583\n",
      "  (829, 829)\t0.6865794353261419\n",
      "  (830, 830)\t0.23188022913722994\n",
      "  (831, 831)\t0.5009350359563017\n",
      "  (832, 832)\t0.287850403388908\n",
      "  (833, 833)\t0.2643536539639122\n",
      "  (834, 834)\t0.1488225540187662\n",
      "  (835, 835)\t0.790337603400854\n",
      "  (836, 836)\t0.06398133554132246\n",
      "  (837, 837)\t0.2587479306690401\n",
      "  (838, 838)\t0.1912026715356323\n",
      "  (839, 839)\t0.14940029494251006\n",
      "  (840, 840)\t0.45381564225384075\n",
      "  (841, 841)\t0.8653838729145769\n",
      "  (842, 842)\t0.25819866151524207\n",
      "  (843, 843)\t0.816778803238886\n",
      "  (844, 844)\t0.7840718380487925\n",
      "  (845, 845)\t0.9244229448504456\n",
      "  (846, 846)\t0.634948880791713\n",
      "  (847, 847)\t0.3750314827148523\n",
      "  (848, 848)\t0.8435211985841783\n",
      "  (849, 849)\t0.7604494868894188\n",
      "  (850, 850)\t0.21516900618891832\n",
      "  (851, 851)\t0.834192269615778\n",
      "  (852, 852)\t0.11248335453040037\n",
      "  (853, 853)\t0.574540559465444\n",
      "  (854, 854)\t0.6326250180036305\n",
      "  (855, 855)\t0.19716535470659158\n",
      "  (856, 856)\t0.8256407324852226\n",
      "  (857, 857)\t0.6502569871265329\n",
      "  (858, 858)\t0.051112495826713844\n",
      "  (859, 859)\t0.7437341021767255\n",
      "  (860, 860)\t0.766782239506002\n",
      "  (861, 861)\t0.03782745564494994\n",
      "  (862, 862)\t0.6362369048204874\n",
      "  (863, 863)\t0.6831599119504731\n",
      "  (864, 864)\t0.2027731231395674\n",
      "  (865, 865)\t0.3852117323912374\n",
      "  (866, 866)\t0.9796335475910417\n",
      "  (867, 867)\t0.3328405890698475\n",
      "  (868, 868)\t0.908346015868055\n",
      "  (869, 869)\t0.8728687699000045\n",
      "  (870, 870)\t0.049197304630372085\n",
      "  (871, 871)\t0.5549842245040381\n",
      "  (872, 872)\t0.6604791013223306\n",
      "  (873, 873)\t0.4493979056950115\n",
      "  (874, 874)\t0.3926095584759788\n",
      "  (875, 875)\t0.40800625334849183\n",
      "  (876, 876)\t0.07924572335974467\n",
      "  (877, 877)\t0.8236751907442594\n",
      "  (878, 878)\t0.6876787831555851\n",
      "  (879, 879)\t0.530626166949195\n",
      "  (880, 880)\t0.44576548612665845\n",
      "  (881, 881)\t0.381426621435797\n",
      "  (882, 882)\t0.33162198424545586\n",
      "  (883, 883)\t0.8445315513108916\n",
      "  (884, 884)\t0.9713086913504035\n",
      "  (885, 885)\t0.560069379228325\n",
      "  (886, 886)\t0.0856218369248628\n",
      "  (887, 887)\t0.627115233057767\n",
      "  (888, 888)\t0.5825500545824887\n",
      "  (889, 889)\t0.8392518192876562\n",
      "  (890, 890)\t0.6046016844427177\n",
      "  (891, 891)\t0.11112484721556048\n",
      "  (892, 892)\t0.12333999685361874\n",
      "  (893, 893)\t0.9910501740193199\n",
      "  (894, 894)\t0.9822445712155861\n",
      "  (895, 895)\t0.17448937744143633\n",
      "  (896, 896)\t0.3061640162451932\n",
      "  (897, 897)\t0.35542024940005645\n",
      "  (898, 898)\t0.27518902493647346\n",
      "  (899, 899)\t0.3363374453701823\n",
      "  (900, 900)\t0.6656762623094619\n",
      "  (901, 901)\t0.7565316805925842\n",
      "  (902, 902)\t0.31708295447774715\n",
      "  (903, 903)\t0.30057693402692853\n",
      "  (904, 904)\t0.4152663015971483\n",
      "  (905, 905)\t0.03430000065291172\n",
      "  (906, 906)\t0.19188084258092086\n",
      "  (907, 907)\t0.8903750994756267\n",
      "  (908, 908)\t0.5999553073639934\n",
      "  (909, 909)\t0.13818252671380338\n",
      "  (910, 910)\t0.6145004438293908\n",
      "  (911, 911)\t0.6320238014592153\n",
      "  (912, 912)\t0.6217669084319323\n",
      "  (913, 913)\t0.18920543631100295\n",
      "  (914, 914)\t0.4784704882050883\n",
      "  (915, 915)\t0.8576086577069524\n",
      "  (916, 916)\t0.7546543279183459\n",
      "  (917, 917)\t0.9106742884793368\n",
      "  (918, 918)\t0.452916380437011\n",
      "  (919, 919)\t0.11797551281678387\n",
      "  (920, 920)\t0.773740850095498\n",
      "  (921, 921)\t0.11211107168098877\n",
      "  (922, 922)\t0.9262742319201624\n",
      "  (923, 923)\t0.6875995198655498\n",
      "  (924, 924)\t0.41459408060806713\n",
      "  (925, 925)\t0.3003045290816091\n",
      "  (926, 926)\t0.08276903789837164\n",
      "  (927, 927)\t0.9809666272949735\n",
      "  (928, 928)\t0.8552579528062505\n",
      "  (929, 929)\t0.10131794548167439\n",
      "  (930, 930)\t0.8925986049324458\n",
      "  (931, 931)\t0.7474363873906734\n",
      "  (932, 932)\t0.11921830111584919\n",
      "  (933, 933)\t0.2724360446935358\n",
      "  (934, 934)\t0.04967843745899991\n",
      "  (935, 935)\t0.8599369070659842\n",
      "  (936, 936)\t0.7823370193616939\n",
      "  (937, 937)\t0.9653437082800579\n",
      "  (938, 938)\t0.9218086408877975\n",
      "  (939, 939)\t0.18812649332203013\n",
      "  (940, 940)\t0.19146099721495802\n",
      "  (941, 941)\t0.4078506882596883\n",
      "  (942, 942)\t0.9439304566054199\n",
      "  (943, 943)\t0.6063141006150231\n",
      "  (944, 944)\t0.7015967622875241\n",
      "  (945, 945)\t0.7381478266633755\n",
      "  (946, 946)\t0.8358220919653905\n",
      "  (947, 947)\t0.48163960245505555\n",
      "  (948, 948)\t0.3613936094622726\n",
      "  (949, 949)\t0.1790417534143971\n",
      "  (950, 950)\t0.9343582227568648\n",
      "  (951, 951)\t0.25117782568554226\n",
      "  (952, 952)\t0.7718803432333311\n",
      "  (953, 953)\t0.7097598120263353\n",
      "  (954, 954)\t0.4736284189795491\n",
      "  (955, 955)\t0.58180440094071\n",
      "  (956, 956)\t0.3721793340838422\n",
      "  (957, 957)\t0.7533163557425987\n",
      "  (958, 958)\t0.17564641039534634\n",
      "  (959, 959)\t0.7508499486070146\n",
      "  (960, 960)\t0.24964864144170584\n",
      "  (961, 961)\t0.011440357914665134\n",
      "  (962, 962)\t0.6246703744817583\n",
      "  (963, 963)\t0.32487798855960626\n",
      "  (964, 964)\t0.3103965153817714\n",
      "  (965, 965)\t0.8124512104605393\n",
      "  (966, 966)\t0.7147406257972739\n",
      "  (967, 967)\t0.4924131717540061\n",
      "  (968, 968)\t0.7453543983562194\n",
      "  (969, 969)\t0.21760247286160983\n",
      "  (970, 970)\t0.07704003611344534\n",
      "  (971, 971)\t0.4571185730230175\n",
      "  (972, 972)\t0.7535955727657289\n",
      "  (973, 973)\t0.3777771988112937\n",
      "  (974, 974)\t0.10836191951295204\n",
      "  (975, 975)\t0.21951620487564583\n",
      "  (976, 976)\t0.41621752935780465\n",
      "  (977, 977)\t0.6536463087295304\n",
      "  (978, 978)\t0.4465932916565608\n",
      "  (979, 979)\t0.49751530022109025\n",
      "  (980, 980)\t0.42307914377688816\n",
      "  (981, 981)\t0.28812799794279464\n",
      "  (982, 982)\t0.7021520555658843\n",
      "  (983, 983)\t0.15945226347537445\n",
      "  (984, 984)\t0.4168008497877199\n",
      "  (985, 985)\t0.8902726066746875\n",
      "  (986, 986)\t0.04447426676925903\n",
      "  (987, 987)\t0.36557331161050344\n",
      "  (988, 988)\t0.24987795131318824\n",
      "  (989, 989)\t0.8481920462698646\n",
      "  (990, 990)\t0.3796607090552311\n",
      "  (991, 991)\t0.2900880558273863\n",
      "  (992, 992)\t0.753684394578826\n",
      "  (993, 993)\t0.39716750384986677\n",
      "  (994, 994)\t0.9728456806731991\n",
      "  (995, 995)\t0.6653923259638693\n",
      "  (996, 996)\t0.17233698108937445\n",
      "  (997, 997)\t0.997858667430134\n",
      "  (998, 998)\t0.05446562765654728\n",
      "  (999, 999)\t0.774812463630595\n"
     ]
    }
   ],
   "source": [
    "X= sparse.lil_matrix((1000,1000))\n",
    "print(X)\n",
    "X[0,:100]=np.random.rand(100)\n",
    "X[1,100:200]=X[0,:100]\n",
    "X.setdiag(np.random.rand(1000))\n",
    "print(X)"
   ]
  },
  {
   "cell_type": "markdown",
   "id": "13a32501",
   "metadata": {},
   "source": [
    "### INTEGRATION"
   ]
  },
  {
   "cell_type": "code",
   "execution_count": 26,
   "id": "72c15a63",
   "metadata": {},
   "outputs": [
    {
     "name": "stdout",
     "output_type": "stream",
     "text": [
      "(0.7468241328124271, 8.291413475940725e-15)\n"
     ]
    }
   ],
   "source": [
    "import scipy.integrate\n",
    "f= lambda x:np.exp(-x**2)\n",
    "i= scipy.integrate.quad(f,0,1)\n",
    "print(i)"
   ]
  },
  {
   "cell_type": "markdown",
   "id": "ce13d43f",
   "metadata": {},
   "source": [
    "### PyTorch"
   ]
  },
  {
   "cell_type": "markdown",
   "id": "a091feb1",
   "metadata": {},
   "source": [
    "- Deep Learning is a branch of Machine Learning where algorithms are written which mimic the functioning of a human brain. The most commonly used libraries in deep learning are Tensorflow and PyTorch.\n",
    "- The Pytorch is used to process the tensors. Tensors are multidimensional arrays like n-dimensional NumPy array. However, tensors can be used in GPUs as well, which is not in the case of NumPy array. PyTorch accelerates the scientific computation of tensors as it has various inbuilt functions."
   ]
  },
  {
   "cell_type": "code",
   "execution_count": 27,
   "id": "c6120499",
   "metadata": {},
   "outputs": [],
   "source": [
    "import torch"
   ]
  },
  {
   "cell_type": "code",
   "execution_count": 30,
   "id": "17db7110",
   "metadata": {},
   "outputs": [
    {
     "name": "stdout",
     "output_type": "stream",
     "text": [
      "tesnor t1:\n",
      " tensor([ 1,  4, 56,  7])\n",
      "\n",
      "tensor t2:\n",
      " tensor([[ 3,  5,  7,  3],\n",
      "        [ 6,  7,  8,  7],\n",
      "        [ 9, 10, 11, 12]])\n",
      "\n",
      "rank of t1: 1\n",
      "rank of t2: 2\n",
      "\n",
      "rank of t1: torch.Size([4])\n",
      "pank of t2: torch.Size([3, 4])\n"
     ]
    }
   ],
   "source": [
    "t1=torch.tensor([1,4,56,7])\n",
    "t2=torch.tensor([[3,5,7,3],\n",
    "                [6,7,8,7],\n",
    "                [9,10,11,12]])\n",
    "print(\"tesnor t1:\\n\",t1)\n",
    "print(\"\\ntensor t2:\\n\",t2)\n",
    "print(\"\\nrank of t1:\",len(t1.shape))\n",
    "print(\"rank of t2:\",len(t2.shape))\n",
    "print('\\nrank of t1:',t1.shape)\n",
    "print(\"pank of t2:\",t2.shape)"
   ]
  },
  {
   "cell_type": "markdown",
   "id": "4980d07d",
   "metadata": {},
   "source": [
    "### Restructuring Tensors in Pytorch"
   ]
  },
  {
   "cell_type": "markdown",
   "id": "181a7cd9",
   "metadata": {},
   "source": [
    "- .reshape(a, b) \n",
    "- .resize(a, b)\n",
    "- .transpose(a, b)"
   ]
  },
  {
   "cell_type": "code",
   "execution_count": 33,
   "id": "00adba66",
   "metadata": {},
   "outputs": [
    {
     "name": "stdout",
     "output_type": "stream",
     "text": [
      "reshping\n",
      "tensor([[1, 5],\n",
      "        [7, 4],\n",
      "        [5, 6],\n",
      "        [7, 3],\n",
      "        [9, 6],\n",
      "        [5, 3]])\n",
      "\n",
      "resizing\n",
      "tensor([[1, 5, 7, 4, 5, 6],\n",
      "        [7, 3, 9, 6, 5, 3]])\n",
      "\n",
      "transpose\n",
      "tensor([[1, 5, 9],\n",
      "        [5, 6, 6],\n",
      "        [7, 7, 5],\n",
      "        [4, 3, 3]])\n"
     ]
    }
   ],
   "source": [
    "import torch\n",
    "t=torch.tensor([[1,5,7,4],\n",
    "               [5,6,7,3,],\n",
    "               [9,6,5,3]])\n",
    "print(\"reshping\")\n",
    "print(t.reshape(6,2))\n",
    "print(\"\\nresizing\")\n",
    "print(t.resize(2,6))\n",
    "print('\\ntranspose')\n",
    "print(t.transpose(1,0))"
   ]
  },
  {
   "cell_type": "markdown",
   "id": "bd257734",
   "metadata": {},
   "source": [
    "## TensorFlow"
   ]
  },
  {
   "cell_type": "markdown",
   "id": "19bcc009",
   "metadata": {},
   "source": [
    "- TensorFlow is an open-source software library. TensorFlow was originally developed by researchers and engineers working on the Google Brain Team within Google’s Machine Intelligence research organization for the purposes of conducting machine learning and deep neural networks research\n",
    "- TensorFlow is basically a software library for numerical computation using data flow graphs where:\n",
    "   -nodes in the graph represent mathematical operations.\n",
    "   -edges in the graph represent the multidimensional data arrays (called tensors) communicated between them."
   ]
  },
  {
   "cell_type": "code",
   "execution_count": 46,
   "id": "15253e85",
   "metadata": {},
   "outputs": [
    {
     "name": "stdout",
     "output_type": "stream",
     "text": [
      "sum of node1 and node2 is: 8\n"
     ]
    }
   ],
   "source": [
    "import tensorflow as tf\n",
    "tf.compat.v1.disable_eager_execution()#to disable eager execution\n",
    "node1= tf.constant(3,dtype=tf.int32)\n",
    "node2=tf.constant(5,dtype=tf.int32)\n",
    "node3= tf.add(node1,node2)\n",
    "sess=tf.compat.v1.Session()\n",
    "s=sess.run(node3)\n",
    "print(\"sum of node1 and node2 is:\",s)\n"
   ]
  },
  {
   "cell_type": "markdown",
   "id": "c62071cf",
   "metadata": {},
   "source": [
    "### The Computational Graph"
   ]
  },
  {
   "cell_type": "markdown",
   "id": "2313d94c",
   "metadata": {},
   "source": [
    "Any TensorFlow Core program can be divided into two discrete sections\n",
    " - Building the computational graph.A computational graph is nothing but a series of TensorFlow operations arranged into a graph of nodes.\n",
    " - Running the computational graph.To actually evaluate the nodes, we must run the computational graph within a session. A session encapsulates the control and state of the TensorFlow runtime."
   ]
  },
  {
   "cell_type": "markdown",
   "id": "6fa8e5ed",
   "metadata": {},
   "source": [
    "## keras"
   ]
  },
  {
   "cell_type": "markdown",
   "id": "b0c4eee6",
   "metadata": {},
   "source": [
    "- Keras is a python library which is widely used for training deep learning models. One of the common problems in deep learning is finding the proper dataset for developing models. In this article, we will see the list of popular datasets which are already incorporated in the keras.datasets module."
   ]
  },
  {
   "cell_type": "code",
   "execution_count": 47,
   "id": "e24ed176",
   "metadata": {},
   "outputs": [],
   "source": [
    "import seaborn as sns\n",
    "from keras.datasets import mnist\n",
    "import matplotlib.pyplot as plt\n",
    "%matplotlib inline\n",
    "import numpy as np"
   ]
  },
  {
   "cell_type": "code",
   "execution_count": 57,
   "id": "e3c1ef75",
   "metadata": {},
   "outputs": [],
   "source": [
    "(x_train, y_train), (x_test, y_test) = mnist.load_data()"
   ]
  },
  {
   "cell_type": "code",
   "execution_count": 58,
   "id": "084fc8ec",
   "metadata": {},
   "outputs": [
    {
     "data": {
      "text/plain": [
       "((60000, 28, 28), dtype('uint8'), (60000,), dtype('uint8'))"
      ]
     },
     "execution_count": 58,
     "metadata": {},
     "output_type": "execute_result"
    }
   ],
   "source": [
    "x_train.shape, x_train.dtype, y_train.shape, y_train.dtype"
   ]
  },
  {
   "cell_type": "code",
   "execution_count": 59,
   "id": "5f0904dd",
   "metadata": {},
   "outputs": [
    {
     "data": {
      "text/plain": [
       "((10000, 28, 28), dtype('uint8'), (10000,), dtype('uint8'))"
      ]
     },
     "execution_count": 59,
     "metadata": {},
     "output_type": "execute_result"
    }
   ],
   "source": [
    "x_test.shape, x_test.dtype, y_test.shape, y_test.dtype"
   ]
  },
  {
   "cell_type": "code",
   "execution_count": 60,
   "id": "01dd2342",
   "metadata": {},
   "outputs": [
    {
     "data": {
      "image/png": "[encoded data removed]",
      "text/plain": [
       "<Figure size 360x216 with 35 Axes>"
      ]
     },
     "metadata": {
      "needs_background": "light"
     },
     "output_type": "display_data"
    }
   ],
   "source": [
    "rows = 5\n",
    "cols = 7\n",
    "figure, axes = plt.subplots(rows, cols, figsize=(5, 3))\n",
    "plt.subplots_adjust(wspace=0.1, hspace=0.1)\n",
    "for img_nr in range(rows*cols):\n",
    "    row = img_nr//cols\n",
    "    col = img_nr % cols\n",
    "    axes[row, col].get_xaxis().set_visible(False)\n",
    "    axes[row, col].get_yaxis().set_visible(False)\n",
    "    axes[row, col].imshow(x_train[img_nr], cmap='gray')"
   ]
  },
  {
   "cell_type": "code",
   "execution_count": 61,
   "id": "f1fc6193",
   "metadata": {},
   "outputs": [
    {
     "data": {
      "text/plain": [
       "array([[5, 0, 4, 1, 9, 2, 1],\n",
       "       [3, 1, 4, 3, 5, 3, 6],\n",
       "       [1, 7, 2, 8, 6, 9, 4],\n",
       "       [0, 9, 1, 1, 2, 4, 3],\n",
       "       [2, 7, 3, 8, 6, 9, 0]], dtype=uint8)"
      ]
     },
     "execution_count": 61,
     "metadata": {},
     "output_type": "execute_result"
    }
   ],
   "source": [
    "y_train[:rows*cols].reshape(rows, cols)"
   ]
  },
  {
   "cell_type": "code",
   "execution_count": 63,
   "id": "1c642788",
   "metadata": {},
   "outputs": [
    {
     "name": "stderr",
     "output_type": "stream",
     "text": [
      "C:\\Users\\vimala\\anaconda3\\lib\\site-packages\\seaborn\\distributions.py:2557: FutureWarning: `distplot` is a deprecated function and will be removed in a future version. Please adapt your code to use either `displot` (a figure-level function with similar flexibility) or `histplot` (an axes-level function for histograms).\n",
      "  warnings.warn(msg, FutureWarning)\n"
     ]
    },
    {
     "data": {
      "image/png": "[encoded data removed]",
      "text/plain": [
       "<Figure size 432x288 with 1 Axes>"
      ]
     },
     "metadata": {
      "needs_background": "light"
     },
     "output_type": "display_data"
    }
   ],
   "source": [
    "sns.distplot(y_train)\n",
    "plt.show()"
   ]
  },
  {
   "cell_type": "code",
   "execution_count": null,
   "id": "6780a2f4",
   "metadata": {},
   "outputs": [],
   "source": [
    "iris = load_iris()\n",
    "##iris.keys()\n",
    "\n",
    "\n",
    "df= pd.DataFrame(data= np.c_[iris['data'], iris['target']],\n",
    "                 columns= iris['feature_names'] + ['target'])\n",
    "\n",
    "df['species'] = pd.Categorical.from_codes(iris.target, iris.target_names)\n",
    "df.head()\n",
    "df.tail()"
   ]
  }
 ],
 "metadata": {
  "kernelspec": {
   "display_name": "Python 3",
   "language": "python",
   "name": "python3"
  },
  "language_info": {
   "codemirror_mode": {
    "name": "ipython",
    "version": 3
   },
   "file_extension": ".py",
   "mimetype": "text/x-python",
   "name": "python",
   "nbconvert_exporter": "python",
   "pygments_lexer": "ipython3",
   "version": "3.8.8"
  }
 },
 "nbformat": 4,
 "nbformat_minor": 5
}
